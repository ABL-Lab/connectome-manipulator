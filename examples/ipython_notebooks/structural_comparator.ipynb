{
 "cells": [
  {
   "cell_type": "markdown",
   "metadata": {},
   "source": [
    "### > > > Example notebook < < <\n",
    "# Structural comparison of connectomes\n",
    "This is the main script for structural comparisons, which\n",
    " - runs a structural and topological comparison of the raw and manipulated connectomes\n",
    " - produces visualizations as specified\n",
    "\n",
    "> **IMPORTANT:** This notebook is just an extension and needs to be connected to the `connectome_manipulator.ipynb` kernel!"
   ]
  },
  {
   "cell_type": "code",
   "execution_count": null,
   "metadata": {},
   "outputs": [],
   "source": [
    "## Structural comparison of connectomes - Configuration\n",
    "circuit_name = os.path.split(manip_config['circuit_path'])[-1]\n",
    "\n",
    "structcomp_config = {}\n",
    "\n",
    "\"\"\" General settings \"\"\"\n",
    "structcomp_config['working_dir'] = os.path.join('..', 'working_dir', 'structural_comparator', circuit_name)\n",
    "structcomp_config['out_dir'] = os.path.join('figures', circuit_name)\n",
    "\n",
    "\"\"\" Types of structural plots \"\"\"\n",
    "# sel_name = ''\n",
    "# sel_dict = {}\n",
    "sel_name = 'EE'\n",
    "sel_dict = {'sel_src': {'synapse_class': 'EXC'}, 'sel_dest': {'synapse_class': 'EXC'}}\n",
    "structcomp_config['plot_types'] = [{'name': 'conn_per_layer' + f'{\"_\" if len(sel_name) > 0 else \"\"}{sel_name}',\n",
    "                                    'fct': {'source': 'connectivity', 'kwargs': {'group_by': 'layer', **sel_dict}},\n",
    "                                    'res_sel': ['nsyn_conn', 'conn_prob'],\n",
    "                                    'range_prctile': 100,\n",
    "                                    'fig_size': (11, 3),\n",
    "                                    'fig_file': {'format': 'png', 'dpi': 600}},\n",
    "#                                    {'name': 'adjacency' + f'{\"_\" if len(sel_name) > 0 else \"\"}{sel_name}',\n",
    "#                                     'fct': {'source': 'adjacency', 'kwargs': {**sel_dict}},\n",
    "#                                     'res_sel': ['adj', 'adj_cnt'],\n",
    "#                                     'range_prctile': 95,\n",
    "#                                     'fig_size': (11, 3),\n",
    "#                                     'fig_file': {'format': 'png', 'dpi': 600}},\n",
    "                                   {'name': 'delay_per_layer' + f'{\"_\" if len(sel_name) > 0 else \"\"}{sel_name}',\n",
    "                                    'fct': {'source': 'properties', 'kwargs': {'group_by': 'layer', **sel_dict, 'fct': 'np.mean'}},\n",
    "                                    'res_sel': ['delay'],\n",
    "                                    'range_prctile': 100,\n",
    "                                    'fig_size': (11, 3),\n",
    "                                    'fig_file': {'format': 'png', 'dpi': 600}}]\n",
    "\n",
    "\"\"\" Circuits to compare \"\"\"\n",
    "structcomp_config['circuits'] = {'0': {'circuit_config': os.path.join(manip_config['circuit_path'], 'sonata', 'circuit_config.json'),\n",
    "                                       'circuit_name': 'Raw'},\n",
    "                                 '1': {'circuit_config': os.path.join(manip_config.get('output_path', manip_config['circuit_path']), 'sonata', f'circuit_config_{manip_config[\"manip\"][\"name\"]}.json'),\n",
    "                                       'circuit_name': manip_config['manip']['name']}}\n",
    "\n",
    "# Structural comparison of connectomes - Run comparison\n",
    "structural_comparator.main(structcomp_config, True, force_recomp=[False, False])"
   ]
  },
  {
   "cell_type": "code",
   "execution_count": null,
   "metadata": {},
   "outputs": [],
   "source": []
  }
 ],
 "metadata": {
  "kernelspec": {
   "display_name": "ToposampleKernel",
   "language": "python",
   "name": "toposamplekernel"
  },
  "language_info": {
   "codemirror_mode": {
    "name": "ipython",
    "version": 3
   },
   "file_extension": ".py",
   "mimetype": "text/x-python",
   "name": "python",
   "nbconvert_exporter": "python",
   "pygments_lexer": "ipython3",
   "version": "3.7.4"
  }
 },
 "nbformat": 4,
 "nbformat_minor": 4
}
