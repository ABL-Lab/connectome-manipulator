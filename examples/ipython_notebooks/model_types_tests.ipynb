{
 "cells": [
  {
   "cell_type": "markdown",
   "metadata": {},
   "source": [
    "### > > > Test notebook < < <\n",
    "# Connectome model types usage"
   ]
  },
  {
   "cell_type": "code",
   "execution_count": 1,
   "metadata": {},
   "outputs": [],
   "source": [
    "# Initialization\n",
    "\n",
    "\"\"\" Global imports \"\"\"\n",
    "import os\n",
    "import numpy as np\n",
    "import pandas as pd\n",
    "\n",
    "\"\"\" Local imports \"\"\"\n",
    "from connectome_manipulator.model_building import model_types\n",
    "from connectome_manipulator.model_building import conn_prob_adj"
   ]
  },
  {
   "cell_type": "code",
   "execution_count": 2,
   "metadata": {},
   "outputs": [
    {
     "name": "stdout",
     "output_type": "stream",
     "text": [
      "LinDelayModel\n",
      "  Model properties: ['delay_mean_coeff_a', 'delay_mean_coeff_b', 'delay_std', 'delay_min']\n",
      "  Default: {'delay_mean_coeff_a': 0.8, 'delay_mean_coeff_b': 0.004, 'delay_std': 0.25, 'delay_min': 0.1}\n"
     ]
    }
   ],
   "source": [
    "# Linear delay model\n",
    "# model = model_types.LinDelayModel(delay_mean_coefs=[0.8, 0.004], delay_std=0.25, delay_min=0.1)\n",
    "model = model_types.LinDelayModel(delay_mean_coeff_a=0.8, delay_mean_coeff_b=0.004, delay_std=0.25, delay_min=0.1)\n",
    "print(model)"
   ]
  },
  {
   "cell_type": "code",
   "execution_count": 3,
   "metadata": {},
   "outputs": [
    {
     "name": "stdout",
     "output_type": "stream",
     "text": [
      "LinDelayModel\n",
      "  Model properties: ['delay_mean_coeff_a', 'delay_mean_coeff_b', 'delay_std', 'delay_min']\n",
      "  Default: {'delay_mean_coeff_a': 0.75, 'delay_mean_coeff_b': 0.003, 'delay_std': 0.5, 'delay_min': 0.2}\n"
     ]
    }
   ],
   "source": [
    "# Default linear delay model\n",
    "model = model_types.LinDelayModel()\n",
    "print(model)"
   ]
  },
  {
   "cell_type": "code",
   "execution_count": 4,
   "metadata": {},
   "outputs": [
    {
     "name": "stdout",
     "output_type": "stream",
     "text": [
      "LinDelayModel\n",
      "  Model properties: ['delay_mean_coeff_a', 'delay_mean_coeff_b', 'delay_std', 'delay_min']\n",
      "  Default: {'delay_mean_coeff_a': 0.8, 'delay_mean_coeff_b': 0.004, 'delay_std': 0.5, 'delay_min': 0.2}\n"
     ]
    }
   ],
   "source": [
    "# Partial default linear delay model\n",
    "model = model_types.LinDelayModel(delay_mean_coeff_a=0.8, delay_mean_coeff_b=0.004)\n",
    "print(model)"
   ]
  },
  {
   "cell_type": "code",
   "execution_count": 5,
   "metadata": {},
   "outputs": [
    {
     "name": "stdout",
     "output_type": "stream",
     "text": [
      "LinDelayModel\n",
      "  Model properties: ['delay_mean_coeff_a', 'delay_mean_coeff_b', 'delay_std', 'delay_min']\n",
      "  Property values for 2×2 pathways\n",
      "  Default: {'delay_mean_coeff_a': 0.75, 'delay_mean_coeff_b': 0.003, 'delay_std': 0.0, 'delay_min': 0.2}\n"
     ]
    }
   ],
   "source": [
    "# Linear delay model with pathways\n",
    "#model = model_types.LinDelayModel(delay_std=0.0, pathway_specs={\"A\": {\"A\": {\"delay_mean_coefs\": [1.0, 0.0]}, \"B\": {\"delay_mean_coefs\": [0.0, 0.01]}}})\n",
    "pw_specs = pd.DataFrame([[1.0, 0.0], [0.0, 0.01], [2.0, 0.02], [5.0, 0.005]], columns=[\"lindelay_delay_mean_coeff_a\", \"lindelay_delay_mean_coeff_b\"], index=pd.MultiIndex.from_tuples(((\"A\", \"A\"), (\"A\", \"B\"), (\"B\", \"A\"), (\"B\", \"B\")), names=[\"src_type\", \"tgt_type\"]))\n",
    "type_map = {\"A\": 0, \"B\": 1}\n",
    "model = model_types.LinDelayModel(delay_std=0.0, pathway_specs=pw_specs, src_type_map=type_map, tgt_type_map=type_map)\n",
    "print(model)"
   ]
  },
  {
   "cell_type": "code",
   "execution_count": 6,
   "metadata": {},
   "outputs": [
    {
     "name": "stdout",
     "output_type": "stream",
     "text": [
      "LinDelayModel\n",
      "  Model properties: ['delay_mean_coeff_a', 'delay_mean_coeff_b', 'delay_std', 'delay_min']\n",
      "  Property values for 2×2 pathways\n",
      "  Default: {'delay_mean_coeff_a': 0.75, 'delay_mean_coeff_b': 0.003, 'delay_std': 0.0, 'delay_min': 0.2}\n"
     ]
    }
   ],
   "source": [
    "# Linear delay model with partial pathways\n",
    "pw_specs = pd.DataFrame([[1.0, 0.0], [0.0, 0.01]], columns=[\"lindelay_delay_mean_coeff_a\", \"lindelay_delay_mean_coeff_b\"], index=pd.MultiIndex.from_tuples(((\"A\", \"A\"), (\"A\", \"B\")), names=[\"src_type\", \"tgt_type\"]))\n",
    "type_map = {\"A\": 0, \"B\": 1}\n",
    "model = model_types.LinDelayModel(delay_std=0.0, pathway_specs=pw_specs, src_type_map=type_map, tgt_type_map=type_map)\n",
    "print(model)"
   ]
  },
  {
   "cell_type": "code",
   "execution_count": 7,
   "metadata": {},
   "outputs": [
    {
     "name": "stdout",
     "output_type": "stream",
     "text": [
      "LinDelayModel\n",
      "  Model properties: ['delay_mean_coeff_a', 'delay_mean_coeff_b', 'delay_std', 'delay_min']\n",
      "  Property values for 1×2 pathways\n",
      "  Default: {'delay_mean_coeff_a': 0.0, 'delay_mean_coeff_b': 0.001, 'delay_std': 0.0, 'delay_min': 0.2}\n"
     ]
    }
   ],
   "source": [
    "# Linear delay model with pathways overriding defaults\n",
    "pw_specs = pd.DataFrame([[0.0, 0.001], [1.0, 0.0], [2.0, 0.02]], columns=[\"lindelay_delay_mean_coeff_a\", \"lindelay_delay_mean_coeff_b\"], index=pd.MultiIndex.from_tuples(((\"*\", \"*\"), (\"A\", \"A\"), (\"A\", \"B\")), names=[\"src_type\", \"tgt_type\"]))\n",
    "src_type_map = {\"A\": 0}\n",
    "tgt_type_map = {\"A\": 0, \"B\": 1}\n",
    "model = model_types.LinDelayModel(delay_std=0.0, pathway_specs=pw_specs, src_type_map=src_type_map, tgt_type_map=tgt_type_map)\n",
    "print(model)"
   ]
  },
  {
   "cell_type": "code",
   "execution_count": 8,
   "metadata": {},
   "outputs": [
    {
     "name": "stdout",
     "output_type": "stream",
     "text": [
      "NSynConnModel\n",
      "  Model properties: ['mean', 'std']\n",
      "  Default: {'mean': 3.0, 'std': 1.5}\n"
     ]
    }
   ],
   "source": [
    "# Default #syn/conn model\n",
    "model = model_types.NSynConnModel()\n",
    "print(model)"
   ]
  },
  {
   "cell_type": "code",
   "execution_count": 9,
   "metadata": {},
   "outputs": [
    {
     "name": "stdout",
     "output_type": "stream",
     "text": [
      "ConnProbModel\n",
      "  Model properties: ['order', 'coeff_a', 'coeff_b']\n",
      "  Default: {'order': 1, 'coeff_a': 0.0, 'coeff_b': nan}\n"
     ]
    }
   ],
   "source": [
    "# Generic ConnProbModel\n",
    "model = model_types.ConnProbModel()\n",
    "print(model)"
   ]
  },
  {
   "cell_type": "code",
   "execution_count": 10,
   "metadata": {},
   "outputs": [
    {
     "name": "stdout",
     "output_type": "stream",
     "text": [
      "ConnProbModel\n",
      "  Model properties: ['order', 'coeff_a', 'coeff_b']\n",
      "  Property values for 1×2 pathways\n",
      "  Default: {'order': 1, 'coeff_a': 0.0, 'coeff_b': nan}\n"
     ]
    }
   ],
   "source": [
    "# Generic ConnProbModel with specific pathways (1st order)\n",
    "# model = model_types.ConnProbModel(pathway_specs={\"A\": {\"A\": {\"order\": 1, \"coeffs\": (0.1, )}, \"B\": {\"order\": 1, \"coeffs\": (0.3, )}}})\n",
    "pw_specs = pd.DataFrame([[1, 0.1, np.nan], [1, 0.3, np.nan]], columns=[\"connprob_order\", \"connprob_coeff_a\", \"connprob_coeff_b\"], index=pd.MultiIndex.from_tuples(((\"A\", \"A\"), (\"A\", \"B\")), names=[\"src_type\", \"tgt_type\"]))\n",
    "src_type_map = {\"A\": 0}\n",
    "tgt_type_map = {\"A\": 0, \"B\": 1}\n",
    "model = model_types.ConnProbModel(pathway_specs=pw_specs, src_type_map=src_type_map, tgt_type_map=tgt_type_map)\n",
    "print(model)"
   ]
  },
  {
   "cell_type": "code",
   "execution_count": 11,
   "metadata": {},
   "outputs": [
    {
     "name": "stdout",
     "output_type": "stream",
     "text": [
      "ConnProbModel\n",
      "  Model properties: ['order', 'coeff_a', 'coeff_b']\n",
      "  Property values for 1×2 pathways\n",
      "  Default: {'order': 2, 'coeff_a': 0.0, 'coeff_b': 0.0}\n"
     ]
    }
   ],
   "source": [
    "# Generic ConnProbModel with specific pathways (mixed order)\n",
    "# model = model_types.ConnProbModel(order=2, coeffs=(0.0, 0.0), pathway_specs={\"A\": {\"A\": {\"order\": 2, \"coeffs\": (0.1, 0.01)}, \"B\": {\"order\": 1, \"coeffs\": (0.3, )}}})\n",
    "pw_specs = pd.DataFrame([[2, 0.1, 0.01], [1, 0.3, np.nan]], columns=[\"connprob_order\", \"connprob_coeff_a\", \"connprob_coeff_b\"], index=pd.MultiIndex.from_tuples(((\"A\", \"A\"), (\"A\", \"B\")), names=[\"src_type\", \"tgt_type\"]))\n",
    "src_type_map = {\"A\": 0}\n",
    "tgt_type_map = {\"A\": 0, \"B\": 1}\n",
    "model = model_types.ConnProbModel(order=2, coeff_a=0.0, coeff_b=0.0, pathway_specs=pw_specs, src_type_map=src_type_map, tgt_type_map=tgt_type_map)\n",
    "print(model)"
   ]
  },
  {
   "cell_type": "code",
   "execution_count": null,
   "metadata": {},
   "outputs": [],
   "source": []
  },
  {
   "cell_type": "code",
   "execution_count": 12,
   "metadata": {},
   "outputs": [
    {
     "name": "stdout",
     "output_type": "stream",
     "text": [
      "ConnProb1stOrderModel\n",
      "  p_conn() = 0.100 (constant)\n"
     ]
    }
   ],
   "source": [
    "# Check 1st order prob. model (which is not of type PathwayModel)\n",
    "model = model_types.ConnProb1stOrderModel(p_conn=0.1)\n",
    "print(model)"
   ]
  },
  {
   "cell_type": "code",
   "execution_count": null,
   "metadata": {},
   "outputs": [],
   "source": []
  },
  {
   "cell_type": "code",
   "execution_count": 2,
   "metadata": {},
   "outputs": [
    {
     "name": "stdout",
     "output_type": "stream",
     "text": [
      "ConnPropsModel (with #syn/conn)\n",
      "  Connection/synapse property distributions between 2x2 M-types:\n",
      "  n_syn_per_conn <gamma>; prop_A <discrete/zero/ztpoisson>\n"
     ]
    },
    {
     "data": {
      "text/html": [
       "<div>\n",
       "<style scoped>\n",
       "    .dataframe tbody tr th:only-of-type {\n",
       "        vertical-align: middle;\n",
       "    }\n",
       "\n",
       "    .dataframe tbody tr th {\n",
       "        vertical-align: top;\n",
       "    }\n",
       "\n",
       "    .dataframe thead th {\n",
       "        text-align: right;\n",
       "    }\n",
       "</style>\n",
       "<table border=\"1\" class=\"dataframe\">\n",
       "  <thead>\n",
       "    <tr style=\"text-align: right;\">\n",
       "      <th></th>\n",
       "      <th>prop_A</th>\n",
       "    </tr>\n",
       "  </thead>\n",
       "  <tbody>\n",
       "    <tr>\n",
       "      <th>0</th>\n",
       "      <td>0.0</td>\n",
       "    </tr>\n",
       "    <tr>\n",
       "      <th>1</th>\n",
       "      <td>0.0</td>\n",
       "    </tr>\n",
       "  </tbody>\n",
       "</table>\n",
       "</div>"
      ],
      "text/plain": [
       "   prop_A\n",
       "0     0.0\n",
       "1     0.0"
      ]
     },
     "metadata": {},
     "output_type": "display_data"
    },
    {
     "data": {
      "text/html": [
       "<div>\n",
       "<style scoped>\n",
       "    .dataframe tbody tr th:only-of-type {\n",
       "        vertical-align: middle;\n",
       "    }\n",
       "\n",
       "    .dataframe tbody tr th {\n",
       "        vertical-align: top;\n",
       "    }\n",
       "\n",
       "    .dataframe thead th {\n",
       "        text-align: right;\n",
       "    }\n",
       "</style>\n",
       "<table border=\"1\" class=\"dataframe\">\n",
       "  <thead>\n",
       "    <tr style=\"text-align: right;\">\n",
       "      <th></th>\n",
       "      <th>prop_A</th>\n",
       "    </tr>\n",
       "  </thead>\n",
       "  <tbody>\n",
       "    <tr>\n",
       "      <th>0</th>\n",
       "      <td>0.0</td>\n",
       "    </tr>\n",
       "  </tbody>\n",
       "</table>\n",
       "</div>"
      ],
      "text/plain": [
       "   prop_A\n",
       "0     0.0"
      ]
     },
     "metadata": {},
     "output_type": "display_data"
    }
   ],
   "source": [
    "# ConnProps model (with n_syn_per_conn specified)\n",
    "prop_stats = {\"n_syn_per_conn\": {\"A\": {\"A\": {\"type\": \"gamma\", \"mean\": 2.0, \"std\": 0.5},\n",
    "                                       \"B\": {\"type\": \"gamma\", \"mean\": 4.0, \"std\": 0.5}},\n",
    "                                 \"B\": {\"A\": {\"type\": \"gamma\", \"mean\": 6.0, \"std\": 0.5},\n",
    "                                       \"B\": {\"type\": \"gamma\", \"mean\": 8.0, \"std\": 0.5}}},\n",
    "              \"prop_A\": {\"A\": {\"A\": {\"type\": \"zero\", \"shared_within\": False},\n",
    "                               \"B\": {\"type\": \"ztpoisson\", \"shared_within\": False, \"mean\": 2.0}},\n",
    "                         \"B\": {\"A\": {\"type\": \"discrete\", \"shared_within\": False, \"val\": [6.1, 6.3, 6.5, 6.7], \"p\": [0.25] * 4},\n",
    "                               \"B\": {\"type\": \"discrete\", \"shared_within\": False, \"val\": [8.1, 8.2, 8.3, 8.4, 8.5], \"p\": [0.2] * 5}}}}\n",
    "model = model_types.ConnPropsModel(src_types=[\"A\", \"B\"], tgt_types=[\"A\", \"B\"], prop_stats=prop_stats)\n",
    "print(model)\n",
    "\n",
    "# Apply model (With or w/o n_syn)\n",
    "display(model.apply(src_type=\"A\", tgt_type=\"A\"))  # No n_syn provided\n",
    "display(model.apply(src_type=\"A\", tgt_type=\"A\", n_syn=1))  # n_syn provided"
   ]
  },
  {
   "cell_type": "code",
   "execution_count": 11,
   "metadata": {},
   "outputs": [
    {
     "name": "stdout",
     "output_type": "stream",
     "text": [
      "ConnPropsModel (w/o #syn/conn)\n",
      "  Connection/synapse property distributions between 2x2 M-types:\n",
      "  prop_A <discrete/zero/ztpoisson>\n"
     ]
    },
    {
     "data": {
      "text/html": [
       "<div>\n",
       "<style scoped>\n",
       "    .dataframe tbody tr th:only-of-type {\n",
       "        vertical-align: middle;\n",
       "    }\n",
       "\n",
       "    .dataframe tbody tr th {\n",
       "        vertical-align: top;\n",
       "    }\n",
       "\n",
       "    .dataframe thead th {\n",
       "        text-align: right;\n",
       "    }\n",
       "</style>\n",
       "<table border=\"1\" class=\"dataframe\">\n",
       "  <thead>\n",
       "    <tr style=\"text-align: right;\">\n",
       "      <th></th>\n",
       "      <th>prop_A</th>\n",
       "    </tr>\n",
       "  </thead>\n",
       "  <tbody>\n",
       "    <tr>\n",
       "      <th>0</th>\n",
       "      <td>0.0</td>\n",
       "    </tr>\n",
       "  </tbody>\n",
       "</table>\n",
       "</div>"
      ],
      "text/plain": [
       "   prop_A\n",
       "0     0.0"
      ]
     },
     "metadata": {},
     "output_type": "display_data"
    }
   ],
   "source": [
    "# ConnProps model (w/o n_syn_per_conn specified)\n",
    "prop_stats = {\"prop_A\": {\"A\": {\"A\": {\"type\": \"zero\", \"shared_within\": False},\n",
    "                               \"B\": {\"type\": \"ztpoisson\", \"shared_within\": False, \"mean\": 2.0}},\n",
    "                         \"B\": {\"A\": {\"type\": \"discrete\", \"shared_within\": False, \"val\": [6.1, 6.3, 6.5, 6.7], \"p\": [0.25] * 4},\n",
    "                               \"B\": {\"type\": \"discrete\", \"shared_within\": False, \"val\": [8.1, 8.2, 8.3, 8.4, 8.5], \"p\": [0.2] * 5}}}}\n",
    "model = model_types.ConnPropsModel(src_types=[\"A\", \"B\"], tgt_types=[\"A\", \"B\"], prop_stats=prop_stats)\n",
    "print(model)\n",
    "\n",
    "# Apply model (With or w/o n_syn)\n",
    "# display(model.apply(src_type=\"A\", tgt_type=\"A\"))  # No n_syn provided => ERROR:root:\"n_syn_per_conn\" missing\n",
    "# model.apply(src_type=\"A\", tgt_type=\"A\", n_syn=0)  # => AssertionError: \"n_syn\" must be at least 1!\n",
    "display(model.apply(src_type=\"A\", tgt_type=\"A\", n_syn=1))  # n_syn provided"
   ]
  },
  {
   "cell_type": "code",
   "execution_count": null,
   "metadata": {},
   "outputs": [],
   "source": []
  },
  {
   "cell_type": "code",
   "execution_count": 15,
   "metadata": {},
   "outputs": [
    {
     "name": "stdout",
     "output_type": "stream",
     "text": [
      "Elapsed time (CSC): 0.365s\n",
      "Elapsed time (CSR): 5.129s\n",
      "Elapsed time (CSC) - Col/Row: 2.383s\n",
      "Elapsed time (CSC) - Row/Col: 3.541s\n"
     ]
    }
   ],
   "source": [
    "# # ConnProbAdj model - Benchmark\n",
    "# import time\n",
    "# from scipy.sparse import csc_matrix, csr_matrix\n",
    "\n",
    "# np.random.seed(0)\n",
    "# mat = np.random.rand(2000, 2000)\n",
    "# mcsc = csc_matrix(mat > 0.75)\n",
    "# mcsr = csr_matrix(mat > 0.75)\n",
    "\n",
    "# # Accessing per column\n",
    "# t0 = time.time()\n",
    "# for i in range(mat.shape[1]):\n",
    "#     mcsc[:, i].toarray().flatten()\n",
    "# print(f\"Elapsed time (CSC): {time.time() - t0:.3f}s\")\n",
    "\n",
    "# t0 = time.time()\n",
    "# for i in range(mat.shape[1]):\n",
    "#     mcsr[:, i].toarray().flatten()\n",
    "# print(f\"Elapsed time (CSR): {time.time() - t0:.3f}s\")\n",
    "\n",
    "# # Row/column access (CSC)\n",
    "# N_REP = 1000\n",
    "# t0 = time.time()\n",
    "# for _rep in range(N_REP):\n",
    "#     mcsc[:, np.random.permutation(1000)][np.random.permutation(1000), :]\n",
    "# print(f\"Elapsed time (CSC) - Col/Row: {time.time() - t0:.3f}s\")\n",
    "\n",
    "# t0 = time.time()\n",
    "# for _rep in range(N_REP):\n",
    "#     mcsc[np.random.permutation(1000), :][:, np.random.permutation(1000)]\n",
    "# print(f\"Elapsed time (CSC) - Row/Col: {time.time() - t0:.3f}s\")\n"
   ]
  },
  {
   "cell_type": "code",
   "execution_count": 3,
   "metadata": {},
   "outputs": [
    {
     "name": "stdout",
     "output_type": "stream",
     "text": [
      "ConnProbAdjModel\n",
      "  <5x10 sparse matrix of type '<class 'numpy.bool_'>'\n",
      "\twith 13 stored elements in Compressed Sparse Column format>\n",
      "LOADED MODEL:\n",
      "ConnProbAdjModel\n",
      "  <5x10 sparse matrix of type '<class 'numpy.bool_'>'\n",
      "\twith 13 stored elements in Compressed Sparse Column format>\n"
     ]
    },
    {
     "data": {
      "text/plain": [
       "array([[1., 0., 0., 1.],\n",
       "       [1., 1., 0., 0.],\n",
       "       [0., 0., 0., 0.]])"
      ]
     },
     "execution_count": 3,
     "metadata": {},
     "output_type": "execute_result"
    }
   ],
   "source": [
    "# ConnProbAdj model - Build & test\n",
    "from scipy.sparse import csc_matrix\n",
    "\n",
    "## Define (random) adjacency matrix\n",
    "np.random.seed(0)\n",
    "src_node_ids = np.arange(5, 10)\n",
    "tgt_node_ids = np.arange(20, 30)\n",
    "adj_mat = csc_matrix(np.random.rand(len(src_node_ids), len(tgt_node_ids)) > 0.75)\n",
    "assert adj_mat.dtype == 'bool'\n",
    "\n",
    "## Init model\n",
    "inverted = False\n",
    "model = conn_prob_adj.build(adj_mat, src_node_ids, tgt_node_ids, inverted=inverted)\n",
    "# conn_prob_adj.plot('.', model)\n",
    "print(model)\n",
    "np.testing.assert_array_equal(adj_mat.todense(), model.get_adj_matrix().todense())\n",
    "\n",
    "## Save model\n",
    "model.save_model(\".\", \"adj_model\")\n",
    "\n",
    "## Load model\n",
    "model = model_types.AbstractModel.init_model({\"file\": \"adj_model.json\"})\n",
    "print(\"LOADED MODEL:\")\n",
    "print(model)\n",
    "\n",
    "## Access model\n",
    "if inverted:\n",
    "    np.testing.assert_array_equal(adj_mat.todense().astype(float), 1.0 - model.apply(src_nid=src_node_ids, tgt_nid=tgt_node_ids))\n",
    "else:\n",
    "    np.testing.assert_array_equal(adj_mat.todense().astype(float), model.apply(src_nid=src_node_ids, tgt_nid=tgt_node_ids))\n",
    "model.apply(src_nid=[6, 7, 9], tgt_nid=[20, 21, 25, 29])"
   ]
  },
  {
   "cell_type": "raw",
   "metadata": {},
   "source": []
  },
  {
   "cell_type": "code",
   "execution_count": 3,
   "metadata": {},
   "outputs": [
    {
     "name": "stdout",
     "output_type": "stream",
     "text": [
      "LookupTableModel\n",
      "  <5x3 sparse matrix of type '<class 'numpy.int64'>'\n",
      "\twith 2 stored elements in Compressed Sparse Column format>\n",
      "  Value range: 33..55 (dtype: int64)\n",
      "LOADED MODEL:\n",
      "LookupTableModel\n",
      "  <5x3 sparse matrix of type '<class 'numpy.int64'>'\n",
      "\twith 2 stored elements in Compressed Sparse Column format>\n",
      "  Value range: 33..55 (dtype: int64)\n"
     ]
    },
    {
     "data": {
      "text/plain": [
       "array([[ 0.,  0.],\n",
       "       [ 0., 55.],\n",
       "       [ 0.,  0.]])"
      ]
     },
     "execution_count": 3,
     "metadata": {},
     "output_type": "execute_result"
    }
   ],
   "source": [
    "# LookupTableModel (variant 1)\n",
    "from scipy.sparse import csc_matrix\n",
    "np.random.seed(0)\n",
    "\n",
    "## Prepare data frames\n",
    "src_node_ids = [1, 4, 6, 7, 9]\n",
    "tgt_node_ids = [3, 5, 8]\n",
    "src_nodes_table = pd.DataFrame(src_node_ids, columns=[\"src_node_ids\"])\n",
    "tgt_nodes_table = pd.DataFrame(tgt_node_ids, columns=[\"tgt_node_ids\"])\n",
    "# mat = csc_matrix(np.random.rand(len(src_node_ids), len(tgt_node_ids)), shape=(len(src_node_ids), len(tgt_node_ids)))\n",
    "mat = csc_matrix(([33, 55], ([1, 3], [0, 2])), shape=(len(src_node_ids), len(tgt_node_ids)))\n",
    "mat_coo = mat.tocoo()  # Convert to COO, so that easy access to row/col and corresponding data!!\n",
    "lookup_table = pd.DataFrame({\"row_ind\": mat_coo.row, \"col_ind\": mat_coo.col, \"value\": mat_coo.data})\n",
    "\n",
    "## Init. model\n",
    "model = model_types.LookupTableModel(src_nodes_table=src_nodes_table, tgt_nodes_table=tgt_nodes_table, lookup_table=lookup_table)\n",
    "print(model)\n",
    "\n",
    "## Save model\n",
    "model.save_model(\".\", \"LUT_model\")\n",
    "\n",
    "## Load model\n",
    "model = model_types.AbstractModel.init_model({\"file\": \"LUT_model.json\"})\n",
    "print(\"LOADED MODEL:\")\n",
    "print(model)\n",
    "\n",
    "## Access model\n",
    "assert np.array_equal(mat.todense().astype(float), model.apply(src_nid=src_node_ids, tgt_nid=tgt_node_ids)), \"ERROR: Matrix mismatch!\"\n",
    "model.apply(src_nid=[1, 7, 9], tgt_nid=[3, 8])"
   ]
  },
  {
   "cell_type": "code",
   "execution_count": 4,
   "metadata": {},
   "outputs": [
    {
     "name": "stdout",
     "output_type": "stream",
     "text": [
      "LookupTableModel\n",
      "  <5x3 sparse matrix of type '<class 'numpy.int64'>'\n",
      "\twith 2 stored elements in Compressed Sparse Column format>\n",
      "  Value range: 33..55 (dtype: int64)\n",
      "LOADED MODEL:\n",
      "LookupTableModel\n",
      "  <5x3 sparse matrix of type '<class 'numpy.int64'>'\n",
      "\twith 2 stored elements in Compressed Sparse Column format>\n",
      "  Value range: 33..55 (dtype: int64)\n"
     ]
    },
    {
     "data": {
      "text/plain": [
       "array([[ 0.,  0.],\n",
       "       [ 0., 55.],\n",
       "       [ 0.,  0.]])"
      ]
     },
     "execution_count": 4,
     "metadata": {},
     "output_type": "execute_result"
    }
   ],
   "source": [
    "# LookupTableModel (variant 2)\n",
    "np.random.seed(0)\n",
    "src_node_ids = [1, 4, 6, 7, 9]\n",
    "tgt_node_ids = [3, 5, 8]\n",
    "mat = csc_matrix(([33, 55], ([1, 3], [0, 2])), shape=(len(src_node_ids), len(tgt_node_ids)))\n",
    "# mat = csc_matrix(np.random.rand(len(src_node_ids), len(tgt_node_ids)), shape=(len(src_node_ids), len(tgt_node_ids)))\n",
    "\n",
    "## Init. model\n",
    "model = model_types.LookupTableModel.init_from_sparse_matrix(mat, src_node_ids, tgt_node_ids)\n",
    "print(model)\n",
    "\n",
    "## Save model\n",
    "model.save_model(\".\", \"LUT_model2\")\n",
    "\n",
    "## Load model\n",
    "model = model_types.AbstractModel.init_model({\"file\": \"LUT_model2.json\"})\n",
    "print(\"LOADED MODEL:\")\n",
    "print(model)\n",
    "\n",
    "## Access model\n",
    "assert np.array_equal(mat.todense().astype(float), model.apply(src_nid=src_node_ids, tgt_nid=tgt_node_ids)), \"ERROR: Matrix mismatch!\"\n",
    "model.apply(src_nid=[1, 7, 9], tgt_nid=[3, 8])"
   ]
  },
  {
   "cell_type": "code",
   "execution_count": null,
   "metadata": {},
   "outputs": [],
   "source": []
  },
  {
   "cell_type": "code",
   "execution_count": 7,
   "metadata": {},
   "outputs": [
    {
     "name": "stdout",
     "output_type": "stream",
     "text": [
      "PropsTableModel\n",
      "  Properties: ['a', 'b', 'c', 'd', 'e']\n",
      "  Entries: 20\n",
      "LOADED MODEL:\n",
      "PropsTableModel\n",
      "  Properties: ['a', 'b', 'c', 'd', 'e']\n",
      "  Entries: 20\n"
     ]
    },
    {
     "data": {
      "text/html": [
       "<div>\n",
       "<style scoped>\n",
       "    .dataframe tbody tr th:only-of-type {\n",
       "        vertical-align: middle;\n",
       "    }\n",
       "\n",
       "    .dataframe tbody tr th {\n",
       "        vertical-align: top;\n",
       "    }\n",
       "\n",
       "    .dataframe thead th {\n",
       "        text-align: right;\n",
       "    }\n",
       "</style>\n",
       "<table border=\"1\" class=\"dataframe\">\n",
       "  <thead>\n",
       "    <tr style=\"text-align: right;\">\n",
       "      <th></th>\n",
       "      <th>a</th>\n",
       "      <th>b</th>\n",
       "      <th>c</th>\n",
       "      <th>d</th>\n",
       "      <th>e</th>\n",
       "    </tr>\n",
       "  </thead>\n",
       "  <tbody>\n",
       "    <tr>\n",
       "      <th>4</th>\n",
       "      <td>0.978618</td>\n",
       "      <td>0.799159</td>\n",
       "      <td>0.461479</td>\n",
       "      <td>0.780529</td>\n",
       "      <td>0.118274</td>\n",
       "    </tr>\n",
       "    <tr>\n",
       "      <th>6</th>\n",
       "      <td>0.264556</td>\n",
       "      <td>0.774234</td>\n",
       "      <td>0.456150</td>\n",
       "      <td>0.568434</td>\n",
       "      <td>0.018790</td>\n",
       "    </tr>\n",
       "    <tr>\n",
       "      <th>11</th>\n",
       "      <td>0.161310</td>\n",
       "      <td>0.653108</td>\n",
       "      <td>0.253292</td>\n",
       "      <td>0.466311</td>\n",
       "      <td>0.244426</td>\n",
       "    </tr>\n",
       "  </tbody>\n",
       "</table>\n",
       "</div>"
      ],
      "text/plain": [
       "           a         b         c         d         e\n",
       "4   0.978618  0.799159  0.461479  0.780529  0.118274\n",
       "6   0.264556  0.774234  0.456150  0.568434  0.018790\n",
       "11  0.161310  0.653108  0.253292  0.466311  0.244426"
      ]
     },
     "metadata": {},
     "output_type": "display_data"
    },
    {
     "data": {
      "text/html": [
       "<div>\n",
       "<style scoped>\n",
       "    .dataframe tbody tr th:only-of-type {\n",
       "        vertical-align: middle;\n",
       "    }\n",
       "\n",
       "    .dataframe tbody tr th {\n",
       "        vertical-align: top;\n",
       "    }\n",
       "\n",
       "    .dataframe thead th {\n",
       "        text-align: right;\n",
       "    }\n",
       "</style>\n",
       "<table border=\"1\" class=\"dataframe\">\n",
       "  <thead>\n",
       "    <tr style=\"text-align: right;\">\n",
       "      <th></th>\n",
       "      <th>a</th>\n",
       "      <th>b</th>\n",
       "      <th>c</th>\n",
       "      <th>d</th>\n",
       "      <th>e</th>\n",
       "    </tr>\n",
       "  </thead>\n",
       "  <tbody>\n",
       "    <tr>\n",
       "      <th>4</th>\n",
       "      <td>0.978618</td>\n",
       "      <td>0.799159</td>\n",
       "      <td>0.461479</td>\n",
       "      <td>0.780529</td>\n",
       "      <td>0.118274</td>\n",
       "    </tr>\n",
       "    <tr>\n",
       "      <th>6</th>\n",
       "      <td>0.264556</td>\n",
       "      <td>0.774234</td>\n",
       "      <td>0.456150</td>\n",
       "      <td>0.568434</td>\n",
       "      <td>0.018790</td>\n",
       "    </tr>\n",
       "  </tbody>\n",
       "</table>\n",
       "</div>"
      ],
      "text/plain": [
       "          a         b         c         d         e\n",
       "4  0.978618  0.799159  0.461479  0.780529  0.118274\n",
       "6  0.264556  0.774234  0.456150  0.568434  0.018790"
      ]
     },
     "metadata": {},
     "output_type": "display_data"
    },
    {
     "data": {
      "text/html": [
       "<div>\n",
       "<style scoped>\n",
       "    .dataframe tbody tr th:only-of-type {\n",
       "        vertical-align: middle;\n",
       "    }\n",
       "\n",
       "    .dataframe tbody tr th {\n",
       "        vertical-align: top;\n",
       "    }\n",
       "\n",
       "    .dataframe thead th {\n",
       "        text-align: right;\n",
       "    }\n",
       "</style>\n",
       "<table border=\"1\" class=\"dataframe\">\n",
       "  <thead>\n",
       "    <tr style=\"text-align: right;\">\n",
       "      <th></th>\n",
       "      <th>a</th>\n",
       "      <th>b</th>\n",
       "      <th>c</th>\n",
       "      <th>d</th>\n",
       "      <th>e</th>\n",
       "    </tr>\n",
       "  </thead>\n",
       "  <tbody>\n",
       "    <tr>\n",
       "      <th>5</th>\n",
       "      <td>0.639921</td>\n",
       "      <td>0.143353</td>\n",
       "      <td>0.944669</td>\n",
       "      <td>0.521848</td>\n",
       "      <td>0.414662</td>\n",
       "    </tr>\n",
       "    <tr>\n",
       "      <th>8</th>\n",
       "      <td>0.359508</td>\n",
       "      <td>0.437032</td>\n",
       "      <td>0.697631</td>\n",
       "      <td>0.060225</td>\n",
       "      <td>0.666767</td>\n",
       "    </tr>\n",
       "  </tbody>\n",
       "</table>\n",
       "</div>"
      ],
      "text/plain": [
       "          a         b         c         d         e\n",
       "5  0.639921  0.143353  0.944669  0.521848  0.414662\n",
       "8  0.359508  0.437032  0.697631  0.060225  0.666767"
      ]
     },
     "metadata": {},
     "output_type": "display_data"
    },
    {
     "data": {
      "text/html": [
       "<div>\n",
       "<style scoped>\n",
       "    .dataframe tbody tr th:only-of-type {\n",
       "        vertical-align: middle;\n",
       "    }\n",
       "\n",
       "    .dataframe tbody tr th {\n",
       "        vertical-align: top;\n",
       "    }\n",
       "\n",
       "    .dataframe thead th {\n",
       "        text-align: right;\n",
       "    }\n",
       "</style>\n",
       "<table border=\"1\" class=\"dataframe\">\n",
       "  <thead>\n",
       "    <tr style=\"text-align: right;\">\n",
       "      <th></th>\n",
       "      <th>a</th>\n",
       "      <th>b</th>\n",
       "      <th>c</th>\n",
       "      <th>d</th>\n",
       "      <th>e</th>\n",
       "    </tr>\n",
       "  </thead>\n",
       "  <tbody>\n",
       "    <tr>\n",
       "      <th>4</th>\n",
       "      <td>0.978618</td>\n",
       "      <td>0.799159</td>\n",
       "      <td>0.461479</td>\n",
       "      <td>0.780529</td>\n",
       "      <td>0.118274</td>\n",
       "    </tr>\n",
       "    <tr>\n",
       "      <th>5</th>\n",
       "      <td>0.639921</td>\n",
       "      <td>0.143353</td>\n",
       "      <td>0.944669</td>\n",
       "      <td>0.521848</td>\n",
       "      <td>0.414662</td>\n",
       "    </tr>\n",
       "    <tr>\n",
       "      <th>6</th>\n",
       "      <td>0.264556</td>\n",
       "      <td>0.774234</td>\n",
       "      <td>0.456150</td>\n",
       "      <td>0.568434</td>\n",
       "      <td>0.018790</td>\n",
       "    </tr>\n",
       "    <tr>\n",
       "      <th>8</th>\n",
       "      <td>0.359508</td>\n",
       "      <td>0.437032</td>\n",
       "      <td>0.697631</td>\n",
       "      <td>0.060225</td>\n",
       "      <td>0.666767</td>\n",
       "    </tr>\n",
       "    <tr>\n",
       "      <th>11</th>\n",
       "      <td>0.161310</td>\n",
       "      <td>0.653108</td>\n",
       "      <td>0.253292</td>\n",
       "      <td>0.466311</td>\n",
       "      <td>0.244426</td>\n",
       "    </tr>\n",
       "  </tbody>\n",
       "</table>\n",
       "</div>"
      ],
      "text/plain": [
       "           a         b         c         d         e\n",
       "4   0.978618  0.799159  0.461479  0.780529  0.118274\n",
       "5   0.639921  0.143353  0.944669  0.521848  0.414662\n",
       "6   0.264556  0.774234  0.456150  0.568434  0.018790\n",
       "8   0.359508  0.437032  0.697631  0.060225  0.666767\n",
       "11  0.161310  0.653108  0.253292  0.466311  0.244426"
      ]
     },
     "metadata": {},
     "output_type": "display_data"
    },
    {
     "data": {
      "text/html": [
       "<div>\n",
       "<style scoped>\n",
       "    .dataframe tbody tr th:only-of-type {\n",
       "        vertical-align: middle;\n",
       "    }\n",
       "\n",
       "    .dataframe tbody tr th {\n",
       "        vertical-align: top;\n",
       "    }\n",
       "\n",
       "    .dataframe thead th {\n",
       "        text-align: right;\n",
       "    }\n",
       "</style>\n",
       "<table border=\"1\" class=\"dataframe\">\n",
       "  <thead>\n",
       "    <tr style=\"text-align: right;\">\n",
       "      <th></th>\n",
       "      <th>a</th>\n",
       "      <th>c</th>\n",
       "    </tr>\n",
       "  </thead>\n",
       "  <tbody>\n",
       "    <tr>\n",
       "      <th>4</th>\n",
       "      <td>0.978618</td>\n",
       "      <td>0.461479</td>\n",
       "    </tr>\n",
       "    <tr>\n",
       "      <th>6</th>\n",
       "      <td>0.264556</td>\n",
       "      <td>0.456150</td>\n",
       "    </tr>\n",
       "    <tr>\n",
       "      <th>11</th>\n",
       "      <td>0.161310</td>\n",
       "      <td>0.253292</td>\n",
       "    </tr>\n",
       "  </tbody>\n",
       "</table>\n",
       "</div>"
      ],
      "text/plain": [
       "           a         c\n",
       "4   0.978618  0.461479\n",
       "6   0.264556  0.456150\n",
       "11  0.161310  0.253292"
      ]
     },
     "metadata": {},
     "output_type": "display_data"
    },
    {
     "data": {
      "text/html": [
       "<div>\n",
       "<style scoped>\n",
       "    .dataframe tbody tr th:only-of-type {\n",
       "        vertical-align: middle;\n",
       "    }\n",
       "\n",
       "    .dataframe tbody tr th {\n",
       "        vertical-align: top;\n",
       "    }\n",
       "\n",
       "    .dataframe thead th {\n",
       "        text-align: right;\n",
       "    }\n",
       "</style>\n",
       "<table border=\"1\" class=\"dataframe\">\n",
       "  <thead>\n",
       "    <tr style=\"text-align: right;\">\n",
       "      <th></th>\n",
       "      <th>@source_node</th>\n",
       "      <th>@target_node</th>\n",
       "      <th>a</th>\n",
       "      <th>b</th>\n",
       "      <th>c</th>\n",
       "      <th>d</th>\n",
       "      <th>e</th>\n",
       "    </tr>\n",
       "  </thead>\n",
       "  <tbody>\n",
       "    <tr>\n",
       "      <th>4</th>\n",
       "      <td>0</td>\n",
       "      <td>0</td>\n",
       "      <td>0.978618</td>\n",
       "      <td>0.799159</td>\n",
       "      <td>0.461479</td>\n",
       "      <td>0.780529</td>\n",
       "      <td>0.118274</td>\n",
       "    </tr>\n",
       "    <tr>\n",
       "      <th>5</th>\n",
       "      <td>0</td>\n",
       "      <td>1</td>\n",
       "      <td>0.639921</td>\n",
       "      <td>0.143353</td>\n",
       "      <td>0.944669</td>\n",
       "      <td>0.521848</td>\n",
       "      <td>0.414662</td>\n",
       "    </tr>\n",
       "    <tr>\n",
       "      <th>6</th>\n",
       "      <td>0</td>\n",
       "      <td>0</td>\n",
       "      <td>0.264556</td>\n",
       "      <td>0.774234</td>\n",
       "      <td>0.456150</td>\n",
       "      <td>0.568434</td>\n",
       "      <td>0.018790</td>\n",
       "    </tr>\n",
       "    <tr>\n",
       "      <th>8</th>\n",
       "      <td>0</td>\n",
       "      <td>1</td>\n",
       "      <td>0.359508</td>\n",
       "      <td>0.437032</td>\n",
       "      <td>0.697631</td>\n",
       "      <td>0.060225</td>\n",
       "      <td>0.666767</td>\n",
       "    </tr>\n",
       "    <tr>\n",
       "      <th>11</th>\n",
       "      <td>0</td>\n",
       "      <td>0</td>\n",
       "      <td>0.161310</td>\n",
       "      <td>0.653108</td>\n",
       "      <td>0.253292</td>\n",
       "      <td>0.466311</td>\n",
       "      <td>0.244426</td>\n",
       "    </tr>\n",
       "  </tbody>\n",
       "</table>\n",
       "</div>"
      ],
      "text/plain": [
       "    @source_node  @target_node         a         b         c         d  \\\n",
       "4              0             0  0.978618  0.799159  0.461479  0.780529   \n",
       "5              0             1  0.639921  0.143353  0.944669  0.521848   \n",
       "6              0             0  0.264556  0.774234  0.456150  0.568434   \n",
       "8              0             1  0.359508  0.437032  0.697631  0.060225   \n",
       "11             0             0  0.161310  0.653108  0.253292  0.466311   \n",
       "\n",
       "           e  \n",
       "4   0.118274  \n",
       "5   0.414662  \n",
       "6   0.018790  \n",
       "8   0.666767  \n",
       "11  0.244426  "
      ]
     },
     "metadata": {},
     "output_type": "display_data"
    }
   ],
   "source": [
    "# PropsTableModel\n",
    "np.random.seed(0)\n",
    "ptab = pd.DataFrame(np.random.rand(20, 5), columns=[\"a\", \"b\", \"c\", \"d\", \"e\"])\n",
    "ptab[\"@source_node\"] = np.random.randint(ptab.shape[0] >> 2, size=ptab.shape[0])\n",
    "ptab[\"@target_node\"] = np.random.randint(ptab.shape[0] >> 2, size=ptab.shape[0])\n",
    "\n",
    "## Init model\n",
    "model = model_types.PropsTableModel(props_table=ptab)\n",
    "print(model)\n",
    "\n",
    "## Save model\n",
    "model.save_model(\".\", \"props_tab_model\")\n",
    "\n",
    "## Load model\n",
    "model = model_types.AbstractModel.init_model({\"file\": \"props_tab_model.json\"})\n",
    "print(\"LOADED MODEL:\")\n",
    "print(model)\n",
    "\n",
    "## Access model\n",
    "display(model.apply(src_nid=0, tgt_nid=0))\n",
    "# display(model.apply(src_nid=0, tgt_nid=0, num_sel=5))  # ERROR:root:Selected number of elements out of range!\n",
    "# display(model.apply(src_nid=0, tgt_nid=0, num_sel=-1))  # ERROR:root:Selected number of elements out of range!\n",
    "display(model.apply(src_nid=0, tgt_nid=0, num_sel=2))\n",
    "display(model.apply(src_nid=0, tgt_nid=1))\n",
    "display(model.apply(src_nid=0, tgt_nid=[0, 1]))\n",
    "display(model.apply(src_nid=0, tgt_nid=0, prop_names=[\"a\", \"c\"]))\n",
    "display(model.apply(src_nid=0, tgt_nid=[0, 1], prop_names=[\"@source_node\", \"@target_node\"] + model.get_property_names()))"
   ]
  },
  {
   "cell_type": "code",
   "execution_count": null,
   "metadata": {},
   "outputs": [],
   "source": []
  }
 ],
 "metadata": {
  "kernelspec": {
   "display_name": "ReWiringKernel",
   "language": "python",
   "name": "rewiringkernel"
  },
  "language_info": {
   "codemirror_mode": {
    "name": "ipython",
    "version": 3
   },
   "file_extension": ".py",
   "mimetype": "text/x-python",
   "name": "python",
   "nbconvert_exporter": "python",
   "pygments_lexer": "ipython3",
   "version": "3.10.8"
  }
 },
 "nbformat": 4,
 "nbformat_minor": 4
}
