{
 "cells": [
  {
   "cell_type": "markdown",
   "metadata": {},
   "source": [
    "### > > > Test notebook < < <\n",
    "# Connectome model types usage"
   ]
  },
  {
   "cell_type": "code",
   "execution_count": 1,
   "metadata": {},
   "outputs": [],
   "source": [
    "# Initialization\n",
    "\n",
    "\"\"\" Global imports \"\"\"\n",
    "import os\n",
    "import numpy as np\n",
    "import pandas as pd\n",
    "\n",
    "\"\"\" Local imports \"\"\"\n",
    "from connectome_manipulator.model_building import model_types\n",
    "from connectome_manipulator.model_building import conn_prob_adj"
   ]
  },
  {
   "cell_type": "code",
   "execution_count": 2,
   "metadata": {},
   "outputs": [
    {
     "name": "stdout",
     "output_type": "stream",
     "text": [
      "LinDelayModel\n",
      "  Model properties: ['delay_mean_coeff_a', 'delay_mean_coeff_b', 'delay_std', 'delay_min']\n",
      "  Default: {'delay_mean_coeff_a': 0.8, 'delay_mean_coeff_b': 0.004, 'delay_std': 0.25, 'delay_min': 0.1}\n"
     ]
    }
   ],
   "source": [
    "# Linear delay model\n",
    "# model = model_types.LinDelayModel(delay_mean_coefs=[0.8, 0.004], delay_std=0.25, delay_min=0.1)\n",
    "model = model_types.LinDelayModel(delay_mean_coeff_a=0.8, delay_mean_coeff_b=0.004, delay_std=0.25, delay_min=0.1)\n",
    "print(model)"
   ]
  },
  {
   "cell_type": "code",
   "execution_count": 3,
   "metadata": {},
   "outputs": [
    {
     "name": "stdout",
     "output_type": "stream",
     "text": [
      "LinDelayModel\n",
      "  Model properties: ['delay_mean_coeff_a', 'delay_mean_coeff_b', 'delay_std', 'delay_min']\n",
      "  Default: {'delay_mean_coeff_a': 0.75, 'delay_mean_coeff_b': 0.003, 'delay_std': 0.5, 'delay_min': 0.2}\n"
     ]
    }
   ],
   "source": [
    "# Default linear delay model\n",
    "model = model_types.LinDelayModel()\n",
    "print(model)"
   ]
  },
  {
   "cell_type": "code",
   "execution_count": 4,
   "metadata": {},
   "outputs": [
    {
     "name": "stdout",
     "output_type": "stream",
     "text": [
      "LinDelayModel\n",
      "  Model properties: ['delay_mean_coeff_a', 'delay_mean_coeff_b', 'delay_std', 'delay_min']\n",
      "  Default: {'delay_mean_coeff_a': 0.8, 'delay_mean_coeff_b': 0.004, 'delay_std': 0.5, 'delay_min': 0.2}\n"
     ]
    }
   ],
   "source": [
    "# Partial default linear delay model\n",
    "model = model_types.LinDelayModel(delay_mean_coeff_a=0.8, delay_mean_coeff_b=0.004)\n",
    "print(model)"
   ]
  },
  {
   "cell_type": "code",
   "execution_count": 5,
   "metadata": {},
   "outputs": [
    {
     "name": "stdout",
     "output_type": "stream",
     "text": [
      "LinDelayModel\n",
      "  Model properties: ['delay_mean_coeff_a', 'delay_mean_coeff_b', 'delay_std', 'delay_min']\n",
      "  Property values for 2×2 pathways\n",
      "  Default: {'delay_mean_coeff_a': 0.75, 'delay_mean_coeff_b': 0.003, 'delay_std': 0.0, 'delay_min': 0.2}\n"
     ]
    }
   ],
   "source": [
    "# Linear delay model with pathways\n",
    "#model = model_types.LinDelayModel(delay_std=0.0, pathway_specs={\"A\": {\"A\": {\"delay_mean_coefs\": [1.0, 0.0]}, \"B\": {\"delay_mean_coefs\": [0.0, 0.01]}}})\n",
    "pw_specs = pd.DataFrame([[1.0, 0.0], [0.0, 0.01], [2.0, 0.02], [5.0, 0.005]], columns=[\"lindelay_delay_mean_coeff_a\", \"lindelay_delay_mean_coeff_b\"], index=pd.MultiIndex.from_tuples(((\"A\", \"A\"), (\"A\", \"B\"), (\"B\", \"A\"), (\"B\", \"B\")), names=[\"src_type\", \"tgt_type\"]))\n",
    "type_map = {\"A\": 0, \"B\": 1}\n",
    "model = model_types.LinDelayModel(delay_std=0.0, pathway_specs=pw_specs, src_type_map=type_map, tgt_type_map=type_map)\n",
    "print(model)"
   ]
  },
  {
   "cell_type": "code",
   "execution_count": 6,
   "metadata": {},
   "outputs": [
    {
     "name": "stdout",
     "output_type": "stream",
     "text": [
      "LinDelayModel\n",
      "  Model properties: ['delay_mean_coeff_a', 'delay_mean_coeff_b', 'delay_std', 'delay_min']\n",
      "  Property values for 2×2 pathways\n",
      "  Default: {'delay_mean_coeff_a': 0.75, 'delay_mean_coeff_b': 0.003, 'delay_std': 0.0, 'delay_min': 0.2}\n"
     ]
    }
   ],
   "source": [
    "# Linear delay model with partial pathways\n",
    "pw_specs = pd.DataFrame([[1.0, 0.0], [0.0, 0.01]], columns=[\"lindelay_delay_mean_coeff_a\", \"lindelay_delay_mean_coeff_b\"], index=pd.MultiIndex.from_tuples(((\"A\", \"A\"), (\"A\", \"B\")), names=[\"src_type\", \"tgt_type\"]))\n",
    "type_map = {\"A\": 0, \"B\": 1}\n",
    "model = model_types.LinDelayModel(delay_std=0.0, pathway_specs=pw_specs, src_type_map=type_map, tgt_type_map=type_map)\n",
    "print(model)"
   ]
  },
  {
   "cell_type": "code",
   "execution_count": 7,
   "metadata": {},
   "outputs": [
    {
     "name": "stdout",
     "output_type": "stream",
     "text": [
      "LinDelayModel\n",
      "  Model properties: ['delay_mean_coeff_a', 'delay_mean_coeff_b', 'delay_std', 'delay_min']\n",
      "  Property values for 1×2 pathways\n",
      "  Default: {'delay_mean_coeff_a': 0.0, 'delay_mean_coeff_b': 0.001, 'delay_std': 0.0, 'delay_min': 0.2}\n"
     ]
    }
   ],
   "source": [
    "# Linear delay model with pathways overriding defaults\n",
    "pw_specs = pd.DataFrame([[0.0, 0.001], [1.0, 0.0], [2.0, 0.02]], columns=[\"lindelay_delay_mean_coeff_a\", \"lindelay_delay_mean_coeff_b\"], index=pd.MultiIndex.from_tuples(((\"*\", \"*\"), (\"A\", \"A\"), (\"A\", \"B\")), names=[\"src_type\", \"tgt_type\"]))\n",
    "src_type_map = {\"A\": 0}\n",
    "tgt_type_map = {\"A\": 0, \"B\": 1}\n",
    "model = model_types.LinDelayModel(delay_std=0.0, pathway_specs=pw_specs, src_type_map=src_type_map, tgt_type_map=tgt_type_map)\n",
    "print(model)"
   ]
  },
  {
   "cell_type": "code",
   "execution_count": 8,
   "metadata": {},
   "outputs": [
    {
     "name": "stdout",
     "output_type": "stream",
     "text": [
      "NSynConnModel\n",
      "  Model properties: ['mean', 'std']\n",
      "  Default: {'mean': 3.0, 'std': 1.5}\n"
     ]
    }
   ],
   "source": [
    "# Default #syn/conn model\n",
    "model = model_types.NSynConnModel()\n",
    "print(model)"
   ]
  },
  {
   "cell_type": "code",
   "execution_count": 9,
   "metadata": {},
   "outputs": [
    {
     "name": "stdout",
     "output_type": "stream",
     "text": [
      "ConnProbModel\n",
      "  Model properties: ['order', 'coeff_a', 'coeff_b']\n",
      "  Default: {'order': 1, 'coeff_a': 0.0, 'coeff_b': nan}\n"
     ]
    }
   ],
   "source": [
    "# Generic ConnProbModel\n",
    "model = model_types.ConnProbModel()\n",
    "print(model)"
   ]
  },
  {
   "cell_type": "code",
   "execution_count": 10,
   "metadata": {},
   "outputs": [
    {
     "name": "stdout",
     "output_type": "stream",
     "text": [
      "ConnProbModel\n",
      "  Model properties: ['order', 'coeff_a', 'coeff_b']\n",
      "  Property values for 1×2 pathways\n",
      "  Default: {'order': 1, 'coeff_a': 0.0, 'coeff_b': nan}\n"
     ]
    }
   ],
   "source": [
    "# Generic ConnProbModel with specific pathways (1st order)\n",
    "# model = model_types.ConnProbModel(pathway_specs={\"A\": {\"A\": {\"order\": 1, \"coeffs\": (0.1, )}, \"B\": {\"order\": 1, \"coeffs\": (0.3, )}}})\n",
    "pw_specs = pd.DataFrame([[1, 0.1, np.nan], [1, 0.3, np.nan]], columns=[\"connprob_order\", \"connprob_coeff_a\", \"connprob_coeff_b\"], index=pd.MultiIndex.from_tuples(((\"A\", \"A\"), (\"A\", \"B\")), names=[\"src_type\", \"tgt_type\"]))\n",
    "src_type_map = {\"A\": 0}\n",
    "tgt_type_map = {\"A\": 0, \"B\": 1}\n",
    "model = model_types.ConnProbModel(pathway_specs=pw_specs, src_type_map=src_type_map, tgt_type_map=tgt_type_map)\n",
    "print(model)"
   ]
  },
  {
   "cell_type": "code",
   "execution_count": 11,
   "metadata": {},
   "outputs": [
    {
     "name": "stdout",
     "output_type": "stream",
     "text": [
      "ConnProbModel\n",
      "  Model properties: ['order', 'coeff_a', 'coeff_b']\n",
      "  Property values for 1×2 pathways\n",
      "  Default: {'order': 2, 'coeff_a': 0.0, 'coeff_b': 0.0}\n"
     ]
    }
   ],
   "source": [
    "# Generic ConnProbModel with specific pathways (mixed order)\n",
    "# model = model_types.ConnProbModel(order=2, coeffs=(0.0, 0.0), pathway_specs={\"A\": {\"A\": {\"order\": 2, \"coeffs\": (0.1, 0.01)}, \"B\": {\"order\": 1, \"coeffs\": (0.3, )}}})\n",
    "pw_specs = pd.DataFrame([[2, 0.1, 0.01], [1, 0.3, np.nan]], columns=[\"connprob_order\", \"connprob_coeff_a\", \"connprob_coeff_b\"], index=pd.MultiIndex.from_tuples(((\"A\", \"A\"), (\"A\", \"B\")), names=[\"src_type\", \"tgt_type\"]))\n",
    "src_type_map = {\"A\": 0}\n",
    "tgt_type_map = {\"A\": 0, \"B\": 1}\n",
    "model = model_types.ConnProbModel(order=2, coeff_a=0.0, coeff_b=0.0, pathway_specs=pw_specs, src_type_map=src_type_map, tgt_type_map=tgt_type_map)\n",
    "print(model)"
   ]
  },
  {
   "cell_type": "code",
   "execution_count": null,
   "metadata": {},
   "outputs": [],
   "source": []
  },
  {
   "cell_type": "code",
   "execution_count": 12,
   "metadata": {},
   "outputs": [
    {
     "name": "stdout",
     "output_type": "stream",
     "text": [
      "ConnProb1stOrderModel\n",
      "  p_conn() = 0.100 (constant)\n"
     ]
    }
   ],
   "source": [
    "# Check 1st order prob. model (which is not of type PathwayModel)\n",
    "model = model_types.ConnProb1stOrderModel(p_conn=0.1)\n",
    "print(model)"
   ]
  },
  {
   "cell_type": "code",
   "execution_count": null,
   "metadata": {},
   "outputs": [],
   "source": []
  },
  {
   "cell_type": "code",
   "execution_count": 14,
   "metadata": {},
   "outputs": [
    {
     "name": "stdout",
     "output_type": "stream",
     "text": [
      "ConnPropsModel\n",
      "  Connection/synapse property distributions between 2x2 M-types:\n",
      "  n_syn_per_conn <gamma>; prop_A <discrete/zero/ztpoisson>\n"
     ]
    }
   ],
   "source": [
    "# ConnProps model\n",
    "prop_stats = {\"n_syn_per_conn\": {\"A\": {\"A\": {\"type\": \"gamma\", \"mean\": 2.0, \"std\": 0.5},\n",
    "                                       \"B\": {\"type\": \"gamma\", \"mean\": 4.0, \"std\": 0.5}},\n",
    "                                 \"B\": {\"A\": {\"type\": \"gamma\", \"mean\": 6.0, \"std\": 0.5},\n",
    "                                       \"B\": {\"type\": \"gamma\", \"mean\": 8.0, \"std\": 0.5}}},\n",
    "              \"prop_A\": {\"A\": {\"A\": {\"type\": \"zero\", \"shared_within\": False},\n",
    "                               \"B\": {\"type\": \"ztpoisson\", \"shared_within\": False, \"mean\": 2.0}},\n",
    "                         \"B\": {\"A\": {\"type\": \"discrete\", \"shared_within\": False, \"val\": [6.1, 6.3, 6.5, 6.7], \"p\": [0.25] * 4},\n",
    "                               \"B\": {\"type\": \"discrete\", \"shared_within\": False, \"val\": [8.1, 8.2, 8.3, 8.4, 8.5], \"p\": [0.2] * 5}}}}\n",
    "model = model_types.ConnPropsModel(src_types=[\"A\", \"B\"], tgt_types=[\"A\", \"B\"], prop_stats=prop_stats)\n",
    "print(model)"
   ]
  },
  {
   "cell_type": "code",
   "execution_count": null,
   "metadata": {},
   "outputs": [],
   "source": []
  },
  {
   "cell_type": "code",
   "execution_count": 15,
   "metadata": {},
   "outputs": [
    {
     "name": "stdout",
     "output_type": "stream",
     "text": [
      "Elapsed time (CSC): 0.365s\n",
      "Elapsed time (CSR): 5.129s\n",
      "Elapsed time (CSC) - Col/Row: 2.383s\n",
      "Elapsed time (CSC) - Row/Col: 3.541s\n"
     ]
    }
   ],
   "source": [
    "# # ConnProbAdj model - Benchmark\n",
    "# import time\n",
    "# from scipy.sparse import csc_matrix, csr_matrix\n",
    "\n",
    "# np.random.seed(0)\n",
    "# mat = np.random.rand(2000, 2000)\n",
    "# mcsc = csc_matrix(mat > 0.75)\n",
    "# mcsr = csr_matrix(mat > 0.75)\n",
    "\n",
    "# # Accessing per column\n",
    "# t0 = time.time()\n",
    "# for i in range(mat.shape[1]):\n",
    "#     mcsc[:, i].toarray().flatten()\n",
    "# print(f\"Elapsed time (CSC): {time.time() - t0:.3f}s\")\n",
    "\n",
    "# t0 = time.time()\n",
    "# for i in range(mat.shape[1]):\n",
    "#     mcsr[:, i].toarray().flatten()\n",
    "# print(f\"Elapsed time (CSR): {time.time() - t0:.3f}s\")\n",
    "\n",
    "# # Row/column access (CSC)\n",
    "# N_REP = 1000\n",
    "# t0 = time.time()\n",
    "# for _rep in range(N_REP):\n",
    "#     mcsc[:, np.random.permutation(1000)][np.random.permutation(1000), :]\n",
    "# print(f\"Elapsed time (CSC) - Col/Row: {time.time() - t0:.3f}s\")\n",
    "\n",
    "# t0 = time.time()\n",
    "# for _rep in range(N_REP):\n",
    "#     mcsc[np.random.permutation(1000), :][:, np.random.permutation(1000)]\n",
    "# print(f\"Elapsed time (CSC) - Row/Col: {time.time() - t0:.3f}s\")\n"
   ]
  },
  {
   "cell_type": "code",
   "execution_count": 5,
   "metadata": {},
   "outputs": [
    {
     "name": "stdout",
     "output_type": "stream",
     "text": [
      "ConnProbAdjModel\n",
      "  <5x10 sparse matrix of type '<class 'numpy.bool_'>'\n",
      "\twith 13 stored elements in Compressed Sparse Column format>\n",
      "LOADED MODEL:\n",
      "ConnProbAdjModel\n",
      "  <5x10 sparse matrix of type '<class 'numpy.bool_'>'\n",
      "\twith 13 stored elements in Compressed Sparse Column format>\n"
     ]
    },
    {
     "data": {
      "text/plain": [
       "array([[1., 0., 0., 1.],\n",
       "       [1., 1., 0., 0.],\n",
       "       [0., 0., 0., 0.]])"
      ]
     },
     "execution_count": 5,
     "metadata": {},
     "output_type": "execute_result"
    }
   ],
   "source": [
    "# ConnProbAdj model - Build & test\n",
    "from scipy.sparse import csc_matrix\n",
    "\n",
    "## Define (random) adjacency matrix\n",
    "np.random.seed(0)\n",
    "src_node_ids = np.arange(5, 10)\n",
    "tgt_node_ids = np.arange(20, 30)\n",
    "adj_mat = csc_matrix(np.random.rand(len(src_node_ids), len(tgt_node_ids)) > 0.75)\n",
    "assert adj_mat.dtype == 'bool'\n",
    "\n",
    "## Init model\n",
    "inverted = False\n",
    "model = conn_prob_adj.build(adj_mat, src_node_ids, tgt_node_ids, inverted=inverted)\n",
    "# conn_prob_adj.plot('.', model)\n",
    "print(model)\n",
    "np.testing.assert_array_equal(adj_mat.todense(), model.get_adj_matrix().todense())\n",
    "\n",
    "## Save model\n",
    "model.save_model(\".\", \"adj_model\")\n",
    "\n",
    "## Load model\n",
    "model = model_types.AbstractModel.init_model({\"file\": \"adj_model.json\"})\n",
    "print(\"LOADED MODEL:\")\n",
    "print(model)\n",
    "\n",
    "## Access model\n",
    "if inverted:\n",
    "    np.testing.assert_array_equal(adj_mat.todense().astype(float), 1.0 - model.apply(src_nid=src_node_ids, tgt_nid=tgt_node_ids))\n",
    "else:\n",
    "    np.testing.assert_array_equal(adj_mat.todense().astype(float), model.apply(src_nid=src_node_ids, tgt_nid=tgt_node_ids))\n",
    "model.apply(src_nid=[6, 7, 9], tgt_nid=[20, 21, 25, 29])"
   ]
  },
  {
   "cell_type": "raw",
   "metadata": {},
   "source": []
  },
  {
   "cell_type": "code",
   "execution_count": null,
   "metadata": {},
   "outputs": [],
   "source": []
  }
 ],
 "metadata": {
  "kernelspec": {
   "display_name": "ReWiringKernel",
   "language": "python",
   "name": "rewiringkernel"
  },
  "language_info": {
   "codemirror_mode": {
    "name": "ipython",
    "version": 3
   },
   "file_extension": ".py",
   "mimetype": "text/x-python",
   "name": "python",
   "nbconvert_exporter": "python",
   "pygments_lexer": "ipython3",
   "version": "3.10.8"
  }
 },
 "nbformat": 4,
 "nbformat_minor": 4
}
