{
 "cells": [
  {
   "cell_type": "markdown",
   "metadata": {},
   "source": [
    "# Connectome model building\n",
    "This is the main script for model building, which\n",
    " - extracts connectome data\n",
    " - creates data-based models\n",
    " - visualizes data vs. model\n",
    "\n",
    "> **IMPORTANT:** This notebook is just an extension and needs to be connected to the `connectome_manipulator.ipynb` kernel!"
   ]
  },
  {
   "cell_type": "code",
   "execution_count": 2,
   "metadata": {},
   "outputs": [
    {
     "name": "stdout",
     "output_type": "stream",
     "text": [
      "INFO: Circuit loaded: /gpfs/bbp.cscs.ch/data/scratch/proj83/home/pokorny/circuit-build/sonata/circuit_config.json\n",
      "INFO: Created model configurations for 4 pathways between 2x2 synapse_classes\n",
      "INFO: Building 4 models: ConnProb1stOrder__synapse_class__EXC-EXC..ConnProb1stOrder__synapse_class__INH-INH\n",
      "\n",
      ">>> BUILDING MODEL 1/4: ConnProb1stOrder__synapse_class__EXC-EXC <<<\n",
      "INFO: Circuit loaded: /gpfs/bbp.cscs.ch/data/scratch/proj83/home/pokorny/circuit-build/sonata/circuit_config.json\n",
      "INFO: Running order-1 data extraction (sel_src={'synapse_class': 'EXC'}, sel_dest={'synapse_class': 'EXC'}, sample_size=1000 neurons)...\n",
      "Extracting 0-dimensional () connection probabilities...\n"
     ]
    },
    {
     "name": "stderr",
     "output_type": "stream",
     "text": [
      "100% |                                                                        |\r"
     ]
    },
    {
     "name": "stdout",
     "output_type": "stream",
     "text": [
      "INFO: Found 10336 connections between 1000x1000 neurons (p = 0.010)\n",
      "<TIME ELAPSED (data extraction): 0.5s>\n",
      "INFO: Writing data to ../working_dir/model_building/circuit-build/ConnProb1stOrder__synapse_class_pathways/data/ConnProb1stOrder__synapse_class__EXC-EXC.pickle\n",
      "INFO: Running order-1 model building...\n",
      "MODEL FIT: p_conn_model()  = 0.010\n",
      "<TIME ELAPSED (model building): 0.0s>\n",
      "INFO: Writing model to ../working_dir/model_building/circuit-build/ConnProb1stOrder__synapse_class_pathways/model/ConnProb1stOrder__synapse_class__EXC-EXC.pickle\n",
      "INFO: Running order-1 data/model visualization...\n",
      "INFO: Saving /gpfs/bbp.cscs.ch/home/pokorny/JupyterLab/git/connectome_manipulator/notebooks/figures/circuit-build/ConnProb1stOrder__synapse_class_pathways/ConnProb1stOrder__synapse_class__EXC-EXC/data_vs_model.png...\n"
     ]
    },
    {
     "name": "stderr",
     "output_type": "stream",
     "text": [
      "\n"
     ]
    },
    {
     "name": "stdout",
     "output_type": "stream",
     "text": [
      "\n",
      ">>> BUILDING MODEL 2/4: ConnProb1stOrder__synapse_class__EXC-INH <<<\n",
      "INFO: Circuit loaded: /gpfs/bbp.cscs.ch/data/scratch/proj83/home/pokorny/circuit-build/sonata/circuit_config.json\n",
      "INFO: Running order-1 data extraction (sel_src={'synapse_class': 'EXC'}, sel_dest={'synapse_class': 'INH'}, sample_size=1000 neurons)...\n",
      "Extracting 0-dimensional () connection probabilities...\n"
     ]
    },
    {
     "name": "stderr",
     "output_type": "stream",
     "text": [
      "100% |                                                                        |\r"
     ]
    },
    {
     "name": "stdout",
     "output_type": "stream",
     "text": [
      "INFO: Found 4710 connections between 1000x1000 neurons (p = 0.005)\n",
      "<TIME ELAPSED (data extraction): 0.6s>\n",
      "INFO: Writing data to ../working_dir/model_building/circuit-build/ConnProb1stOrder__synapse_class_pathways/data/ConnProb1stOrder__synapse_class__EXC-INH.pickle\n",
      "INFO: Running order-1 model building...\n",
      "MODEL FIT: p_conn_model()  = 0.005\n",
      "<TIME ELAPSED (model building): 0.0s>\n",
      "INFO: Writing model to ../working_dir/model_building/circuit-build/ConnProb1stOrder__synapse_class_pathways/model/ConnProb1stOrder__synapse_class__EXC-INH.pickle\n",
      "INFO: Running order-1 data/model visualization...\n",
      "INFO: Saving /gpfs/bbp.cscs.ch/home/pokorny/JupyterLab/git/connectome_manipulator/notebooks/figures/circuit-build/ConnProb1stOrder__synapse_class_pathways/ConnProb1stOrder__synapse_class__EXC-INH/data_vs_model.png...\n"
     ]
    },
    {
     "name": "stderr",
     "output_type": "stream",
     "text": [
      "\n"
     ]
    },
    {
     "name": "stdout",
     "output_type": "stream",
     "text": [
      "\n",
      ">>> BUILDING MODEL 3/4: ConnProb1stOrder__synapse_class__INH-EXC <<<\n",
      "INFO: Circuit loaded: /gpfs/bbp.cscs.ch/data/scratch/proj83/home/pokorny/circuit-build/sonata/circuit_config.json\n",
      "INFO: Running order-1 data extraction (sel_src={'synapse_class': 'INH'}, sel_dest={'synapse_class': 'EXC'}, sample_size=1000 neurons)...\n",
      "Extracting 0-dimensional () connection probabilities...\n"
     ]
    },
    {
     "name": "stderr",
     "output_type": "stream",
     "text": [
      "100% |                                                                        |\r"
     ]
    },
    {
     "name": "stdout",
     "output_type": "stream",
     "text": [
      "INFO: Found 6821 connections between 1000x1000 neurons (p = 0.007)\n",
      "<TIME ELAPSED (data extraction): 0.5s>\n",
      "INFO: Writing data to ../working_dir/model_building/circuit-build/ConnProb1stOrder__synapse_class_pathways/data/ConnProb1stOrder__synapse_class__INH-EXC.pickle\n",
      "INFO: Running order-1 model building...\n",
      "MODEL FIT: p_conn_model()  = 0.007\n",
      "<TIME ELAPSED (model building): 0.0s>\n",
      "INFO: Writing model to ../working_dir/model_building/circuit-build/ConnProb1stOrder__synapse_class_pathways/model/ConnProb1stOrder__synapse_class__INH-EXC.pickle\n",
      "INFO: Running order-1 data/model visualization...\n",
      "INFO: Saving /gpfs/bbp.cscs.ch/home/pokorny/JupyterLab/git/connectome_manipulator/notebooks/figures/circuit-build/ConnProb1stOrder__synapse_class_pathways/ConnProb1stOrder__synapse_class__INH-EXC/data_vs_model.png...\n"
     ]
    },
    {
     "name": "stderr",
     "output_type": "stream",
     "text": [
      "\n"
     ]
    },
    {
     "name": "stdout",
     "output_type": "stream",
     "text": [
      "\n",
      ">>> BUILDING MODEL 4/4: ConnProb1stOrder__synapse_class__INH-INH <<<\n",
      "INFO: Circuit loaded: /gpfs/bbp.cscs.ch/data/scratch/proj83/home/pokorny/circuit-build/sonata/circuit_config.json\n",
      "INFO: Running order-1 data extraction (sel_src={'synapse_class': 'INH'}, sel_dest={'synapse_class': 'INH'}, sample_size=1000 neurons)...\n",
      "Extracting 0-dimensional () connection probabilities...\n"
     ]
    },
    {
     "name": "stderr",
     "output_type": "stream",
     "text": [
      "100% |                                                                        |\r"
     ]
    },
    {
     "name": "stdout",
     "output_type": "stream",
     "text": [
      "INFO: Found 3764 connections between 1000x1000 neurons (p = 0.004)\n",
      "<TIME ELAPSED (data extraction): 0.5s>\n",
      "INFO: Writing data to ../working_dir/model_building/circuit-build/ConnProb1stOrder__synapse_class_pathways/data/ConnProb1stOrder__synapse_class__INH-INH.pickle\n",
      "INFO: Running order-1 model building...\n",
      "MODEL FIT: p_conn_model()  = 0.004\n",
      "<TIME ELAPSED (model building): 0.0s>\n",
      "INFO: Writing model to ../working_dir/model_building/circuit-build/ConnProb1stOrder__synapse_class_pathways/model/ConnProb1stOrder__synapse_class__INH-INH.pickle\n",
      "INFO: Running order-1 data/model visualization...\n",
      "INFO: Saving /gpfs/bbp.cscs.ch/home/pokorny/JupyterLab/git/connectome_manipulator/notebooks/figures/circuit-build/ConnProb1stOrder__synapse_class_pathways/ConnProb1stOrder__synapse_class__INH-INH/data_vs_model.png...\n"
     ]
    },
    {
     "name": "stderr",
     "output_type": "stream",
     "text": [
      "\n"
     ]
    }
   ],
   "source": [
    "# Model building - Configuration\n",
    "\n",
    "circuit_path = '/gpfs/bbp.cscs.ch/data/scratch/proj83/home/pokorny/circuit-build'\n",
    "circuit_name = os.path.split(circuit_path)[-1]\n",
    "circuit_config = os.path.join(circuit_path, 'sonata', 'circuit_config.json')\n",
    "\n",
    "# circuit_path = manip_config['circuit_path']\n",
    "# circuit_name = f'{os.path.split(circuit_path)[-1]}__{manip_config[\"manip\"][\"name\"]}'\n",
    "# circuit_config = os.path.join(manip_config['circuit_path'], 'sonata', f'circuit_config_{manip_config[\"manip\"][\"name\"]}.json')\n",
    "\n",
    "model_config = {}\n",
    "\n",
    "\"\"\" General settings \"\"\"\n",
    "model_config['working_dir'] = os.path.join('..', 'working_dir', 'model_building', circuit_name)\n",
    "model_config['out_dir'] = os.path.join('figures', circuit_name)\n",
    "model_config['seed'] = 7531\n",
    "\n",
    "\"\"\" Model specifications \"\"\"\n",
    "model_config['circuit_config'] = circuit_config\n",
    "# model_config['model'] = {'name': 'DistDepDelay', 'fct': {'source': 'delay', 'kwargs': {'sample_size': 1000, 'bin_size_um': 100, 'max_range_um': None}}}\n",
    "# model_config['model'] = {'name': 'DistDepDelayEE', 'fct': {'source': 'delay', 'kwargs': {'sel_src': 'Excitatory', 'sel_dest': 'Excitatory', 'sample_size': 1000, 'bin_size_um': 100, 'max_range_um': None}}}\n",
    "# model_config['model'] = {'name': 'DistDepDelayEI', 'fct': {'source': 'delay', 'kwargs': {'sel_src': 'Excitatory', 'sel_dest': 'Inhibitory', 'sample_size': 1000, 'bin_size_um': 100, 'max_range_um': None}}}\n",
    "# model_config['model'] = {'name': 'DistDepDelayIE', 'fct': {'source': 'delay', 'kwargs': {'sel_src': 'Inhibitory', 'sel_dest': 'Excitatory', 'sample_size': 1000, 'bin_size_um': 100, 'max_range_um': None}}}\n",
    "# model_config['model'] = {'name': 'DistDepDelayII', 'fct': {'source': 'delay', 'kwargs': {'sel_src': 'Inhibitory', 'sel_dest': 'Inhibitory', 'sample_size': 1000, 'bin_size_um': 100, 'max_range_um': None}}}\n",
    "# model_config['model'] = {'name': 'ConnPropsPerMType', 'fct': {'source': 'conn_props', 'kwargs': {'min_sample_size_per_group': 10, 'max_sample_size_per_group': 100}}}\n",
    "# model_config['model'] = {'name': 'ConnProb1stOrder', 'fct': {'source': 'conn_prob', 'kwargs': {'order': 1, 'sample_size': 1000}}}\n",
    "# model_config['model'] = {'name': 'ConnProb2ndOrder', 'fct': {'source': 'conn_prob', 'kwargs': {'order': 2, 'sample_size': 1000, 'bin_size_um': 100, 'max_range_um': None}}}\n",
    "# model_config['model'] = {'name': 'ConnProb2ndOrderEE', 'fct': {'source': 'conn_prob', 'kwargs': {'order': 2, 'sel_src': 'Excitatory', 'sel_dest': 'Excitatory', 'sample_size': 1000, 'bin_size_um': 100, 'max_range_um': None}}}\n",
    "# model_config['model'] = {'name': 'ConnProb2ndOrderEI', 'fct': {'source': 'conn_prob', 'kwargs': {'order': 2, 'sel_src': 'Excitatory', 'sel_dest': 'Inhibitory', 'sample_size': 1000, 'bin_size_um': 100, 'max_range_um': None}}}\n",
    "# model_config['model'] = {'name': 'ConnProb2ndOrderIE', 'fct': {'source': 'conn_prob', 'kwargs': {'order': 2, 'sel_src': 'Inhibitory', 'sel_dest': 'Excitatory', 'sample_size': 1000, 'bin_size_um': 100, 'max_range_um': None}}}\n",
    "# model_config['model'] = {'name': 'ConnProb2ndOrderII', 'fct': {'source': 'conn_prob', 'kwargs': {'order': 2, 'sel_src': 'Inhibitory', 'sel_dest': 'Inhibitory', 'sample_size': 1000, 'bin_size_um': 100, 'max_range_um': None}}}\n",
    "# model_config['model'] = {'name': 'ConnProb3rdOrder', 'fct': {'source': 'conn_prob', 'kwargs': {'order': 3, 'sample_size': 1000, 'bin_size_um': 100, 'max_range_um': None}}}\n",
    "# model_config['model'] = {'name': 'ConnProb4thOrder', 'fct': {'source': 'conn_prob', 'kwargs': {'order': 4, 'sample_size': 2000, 'bin_size_um': 40, 'max_range_um': 500, 'model_specs': {'name': 'LinearInterpolation'}}}}\n",
    "# model_config['model'] = {'name': 'ConnProb5thOrder', 'fct': {'source': 'conn_prob', 'kwargs': {'order': 5, 'sample_size': 2000, 'position_bin_size_um': 500, 'offset_bin_size_um': 100, 'offset_max_range_um': 500, 'model_specs': {'name': 'LinearInterpolation'}}}}\n",
    "# model_config['model'] = {'name': 'FlatPosMapping', 'fct': {'source': 'pos_mapping', 'kwargs': {'flatmap_path': '/gpfs/bbp.cscs.ch/project/proj83/home/bolanos', 'xy_file': 'BB_Rat_SSCX_flatmap_v2', 'z_file': 'BB_Rat_SSCX_flatmap_v2_depths', 'xy_scale': None, 'z_scale': -1.0}}}\n",
    "# model_config['model'] = {'name': 'ConnProb2ndOrderFlatspace', 'fct': {'source': 'conn_prob', 'kwargs': {'order': 2, 'sample_size': 1000, 'bin_size_um': 100, 'max_range_um': None, 'pos_map_file': '../working_dir/model_building/circuit-build-S1_v1/model/FlatPosMapping.pickle'}}}\n",
    "# model_config['model'] = {'name': 'ConnProb3rdOrderFlatspace', 'fct': {'source': 'conn_prob', 'kwargs': {'order': 3, 'sample_size': 1000, 'bin_size_um': 100, 'max_range_um': None, 'pos_map_file': '../working_dir/model_building/circuit-build-S1_v1/model/FlatPosMapping.pickle'}}}\n",
    "# model_config['model'] = {'name': 'ConnProb4thOrderFlatspace', 'fct': {'source': 'conn_prob', 'kwargs': {'order': 4, 'sample_size': 2000, 'bin_size_um': 40, 'max_range_um': 500, 'model_specs': {'name': 'LinearInterpolation'}, 'pos_map_file': '../working_dir/model_building/circuit-build-S1_v1/model/FlatPosMapping.pickle'}}}\n",
    "# model_config['model'] = {'name': 'ConnProb5thOrderFlatspace', 'fct': {'source': 'conn_prob', 'kwargs': {'order': 5, 'sample_size': 2000, 'position_bin_size_um': [5000, 5000, 500], 'offset_bin_size_um': 50, 'offset_max_range_um': 500, 'model_specs': {'name': 'LinearInterpolation'}, 'pos_map_file': '../working_dir/model_building/circuit-build-S1_v1/model/FlatPosMapping.pickle'}}}\n",
    "# model_config['model'] = {'name': 'ConnProb5thOrderFlatspaceTest', 'fct': {'source': 'conn_prob', 'kwargs': {'order': 5, 'sample_size': 2000, 'position_bin_size_um': 5000, 'offset_bin_size_um': 40, 'offset_max_range_um': 500, 'model_specs': {'name': 'LinearInterpolation'}, 'pos_map_file': '../working_dir/model_building/circuit-build-S1_v1/model/FlatPosMapping.pickle'}}}\n",
    "\n",
    "model_config['model'] = {'name': 'ConnProb1stOrder', 'fct': {'source': 'conn_prob', 'kwargs': {'order': 1, 'sample_size': 1000}}}\n",
    "model_config_pathways = model_building.create_model_config_per_pathway(model_config, 'synapse_class')\n",
    "\n",
    "# Model building - Run\n",
    "# model_building.main(model_config, show_fig=True, force_recomp=[True, True])\n",
    "model_building.main(model_config_pathways, show_fig=False, force_recomp=[True, True])"
   ]
  },
  {
   "cell_type": "code",
   "execution_count": null,
   "metadata": {},
   "outputs": [],
   "source": []
  }
 ],
 "metadata": {
  "kernelspec": {
   "display_name": "ToposampleKernel",
   "language": "python",
   "name": "toposamplekernel"
  },
  "language_info": {
   "codemirror_mode": {
    "name": "ipython",
    "version": 3
   },
   "file_extension": ".py",
   "mimetype": "text/x-python",
   "name": "python",
   "nbconvert_exporter": "python",
   "pygments_lexer": "ipython3",
   "version": "3.7.4"
  }
 },
 "nbformat": 4,
 "nbformat_minor": 4
}
