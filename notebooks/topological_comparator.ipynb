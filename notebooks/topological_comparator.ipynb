{
 "cells": [
  {
   "cell_type": "markdown",
   "metadata": {},
   "source": [
    "# Topological comparison of connectomes\n",
    "This is the main script for topological comparisons interfacing with the [topological_comparator](https://bbpgitlab.epfl.ch/conn/personal/reimann/topological_comparator.git) pipeline, which\n",
    " - sets up the topological comparator config files\n",
    " - creates a topological database\n",
    " - visualizes topological features of the raw and manipulated connectome\n",
    "\n",
    "> **IMPORTANT:** This notebook is a stand-alone extension to `connectome_manipulator.ipynb`\n",
    "\n",
    "> **REQUIREMENTS:**\n",
    "> - BluePy v2 kernel!\n",
    "> - topological_sampling/common/toposample_utilities/toposample\n",
    "> - topological_sampling/common/pybind11\n",
    "> - topological_sampling/common/pyflagsercontain"
   ]
  },
  {
   "cell_type": "code",
   "execution_count": 1,
   "metadata": {},
   "outputs": [],
   "source": [
    "# Initialization\n",
    "import sys\n",
    "import json\n",
    "import os.path\n",
    "from pprint import pprint\n",
    "import importlib  \n",
    "\n",
    "\"\"\" Paths \"\"\"\n",
    "sys.path.insert(0, '../pipeline/')\n",
    "sys.path.insert(0, '/gpfs/bbp.cscs.ch/home/pokorny/JupyterLab/git/')\n",
    "\n",
    "\"\"\" Local imports \"\"\"\n",
    "from topological_sampling.pipeline.gen_topo_db import gen_topo_db\n",
    "from topological_sampling.pipeline.count_triads import count_triads\n",
    "sample_tribes_volumetric = importlib.import_module('topological_sampling.pipeline.sample_tribes.sample-tribes-volumetric') \n",
    "from topological_comparator.pipeline import prepare_pipeline\n",
    "from topological_comparator.pipeline.extract_connectivity import extract_connectivity\n",
    "from topological_comparator.bin import compare_topo_db\n",
    "from helper_functions import plot_topodb_comparison\n",
    "from helper_functions import plot_triads_comparison"
   ]
  },
  {
   "cell_type": "code",
   "execution_count": 2,
   "metadata": {},
   "outputs": [],
   "source": [
    "# Config selection\n",
    "topocomp_config_file = '/gpfs/bbp.cscs.ch/home/pokorny/JupyterLab/git/connectome_manipulator/working_dir/topological_comparator/circuit-build-S1_v1/topocomp_config__Raw_vs_NoManipV2.json' "
   ]
  },
  {
   "cell_type": "code",
   "execution_count": 3,
   "metadata": {},
   "outputs": [
    {
     "name": "stdout",
     "output_type": "stream",
     "text": [
      "INFO: Loaded topocomp_config from /gpfs/bbp.cscs.ch/home/pokorny/JupyterLab/git/connectome_manipulator/working_dir/topological_comparator/circuit-build-S1_v1/topocomp_config__Raw_vs_NoManipV2.json\n",
      "\n",
      "topocomp_config =\n",
      "{'circuits': {'0': {'circuit_config': '/gpfs/bbp.cscs.ch/data/scratch/proj83/home/pokorny/circuit-build-S1_v1/CircuitConfig',\n",
      "                    'circuit_name': 'Raw'},\n",
      "              '1': {'circuit_config': '/gpfs/bbp.cscs.ch/data/scratch/proj83/home/pokorny/circuit-build-S1_v1_manip/CircuitConfig_NoManipV2',\n",
      "                    'circuit_name': 'NoManipV2'}},\n",
      " 'out_dir': 'figures/circuit-build-S1_v1',\n",
      " 'working_dir': '../working_dir/topological_comparator/circuit-build-S1_v1'}\n"
     ]
    }
   ],
   "source": [
    "# Load configuration from file\n",
    "with open(topocomp_config_file, 'r') as f:\n",
    "    topocomp_config = json.load(f)\n",
    "\n",
    "print(f'INFO: Loaded topocomp_config from {topocomp_config_file}\\n')\n",
    "print('topocomp_config =')\n",
    "pprint(topocomp_config)"
   ]
  },
  {
   "cell_type": "code",
   "execution_count": 4,
   "metadata": {},
   "outputs": [
    {
     "name": "stdout",
     "output_type": "stream",
     "text": [
      "INFO: Folder ../working_dir/topological_comparator/circuit-build-S1_v1/Raw already exists ... SKIPPING\n",
      "INFO: Folder ../working_dir/topological_comparator/circuit-build-S1_v1/NoManipV2 already exists ... SKIPPING\n"
     ]
    }
   ],
   "source": [
    "# Topological comparison of connectomes - Prepare topological database\n",
    "topocomp_force_recomp = [False, False]\n",
    "topocomp_config_files = {}\n",
    "circuit_ids = sorted(topocomp_config['circuits'].keys())\n",
    "for cidx in range(len(circuit_ids)):\n",
    "    wrkdir = os.path.join(topocomp_config['working_dir'], topocomp_config['circuits'][circuit_ids[cidx]]['circuit_name'])\n",
    "    topocomp_config_files[circuit_ids[cidx]] = os.path.join(wrkdir, 'config', 'common_config.json')\n",
    "    if os.path.exists(wrkdir) and not topocomp_force_recomp[cidx]:\n",
    "        print(f'INFO: Folder {wrkdir} already exists ... SKIPPING', flush=True)\n",
    "    else:\n",
    "        print(f'INFO: Preparing topological data in {wrkdir}', flush=True)\n",
    "        # Topological database\n",
    "        prepare_pipeline.prepare_and_place_files(topocomp_config['circuits'][circuit_ids[cidx]]['circuit_config'], 'All', wrkdir)\n",
    "        extract_connectivity.main(topocomp_config_files[circuit_ids[cidx]]) # Extract connection matrices\n",
    "        gen_topo_db.main(topocomp_config_files[circuit_ids[cidx]]) # Create topological database\n",
    "        \n",
    "        # Tribe sampling (all neurons) & triplet motifs\n",
    "        with open(os.path.join(wrkdir, 'config', 'sampling_config.json'), 'w') as f: # Write config to select ALL neurons by volumetric sampling [overwriting existing config]\n",
    "            json.dump({'Volumetric': {'Specifier_label': 'Radius', 'seed': 100000,\n",
    "                                      'Specifiers': [{'name': 'All', 'value': 999999999, 'number': 1, 'neuron_count': 999999999}],\n",
    "                                      'Arguments': {'offset_amplitudes': [0, 0, 0]}}}, f, indent=2)\n",
    "        sample_tribes_volumetric.main(topocomp_config_files[circuit_ids[cidx]]) # Volumetric sampling\n",
    "        count_triads.main(topocomp_config_files[circuit_ids[cidx]]) # Compute over-/underexpression of triplet motifs\n"
   ]
  },
  {
   "cell_type": "code",
   "execution_count": 5,
   "metadata": {},
   "outputs": [
    {
     "ename": "KeyError",
     "evalue": "'Champions'",
     "output_type": "error",
     "traceback": [
      "\u001b[0;31m---------------------------------------------------------------------------\u001b[0m",
      "\u001b[0;31mKeyError\u001b[0m                                  Traceback (most recent call last)",
      "\u001b[0;32m<ipython-input-5-654c74c52893>\u001b[0m in \u001b[0;36m<module>\u001b[0;34m\u001b[0m\n\u001b[1;32m      1\u001b[0m \u001b[0;31m# Topological comparison of connectomes - Plot topological paramter overviews\u001b[0m\u001b[0;34m\u001b[0m\u001b[0;34m\u001b[0m\u001b[0;34m\u001b[0m\u001b[0m\n\u001b[0;32m----> 2\u001b[0;31m \u001b[0mtopocomp_db_dict\u001b[0m\u001b[0;34m,\u001b[0m \u001b[0mtopocomp_param_dict\u001b[0m \u001b[0;34m=\u001b[0m \u001b[0mcompare_topo_db\u001b[0m\u001b[0;34m.\u001b[0m\u001b[0mread_topo_dbs_and_parameter_specs\u001b[0m\u001b[0;34m(\u001b[0m\u001b[0;34m{\u001b[0m\u001b[0mtopocomp_config\u001b[0m\u001b[0;34m[\u001b[0m\u001b[0;34m'circuits'\u001b[0m\u001b[0;34m]\u001b[0m\u001b[0;34m[\u001b[0m\u001b[0mcidx\u001b[0m\u001b[0;34m]\u001b[0m\u001b[0;34m[\u001b[0m\u001b[0;34m'circuit_name'\u001b[0m\u001b[0;34m]\u001b[0m\u001b[0;34m:\u001b[0m \u001b[0mtopocomp_config_files\u001b[0m\u001b[0;34m[\u001b[0m\u001b[0mcidx\u001b[0m\u001b[0;34m]\u001b[0m \u001b[0;32mfor\u001b[0m \u001b[0mcidx\u001b[0m \u001b[0;32min\u001b[0m \u001b[0msorted\u001b[0m\u001b[0;34m(\u001b[0m\u001b[0mtopocomp_config_files\u001b[0m\u001b[0;34m.\u001b[0m\u001b[0mkeys\u001b[0m\u001b[0;34m(\u001b[0m\u001b[0;34m)\u001b[0m\u001b[0;34m)\u001b[0m\u001b[0;34m}\u001b[0m\u001b[0;34m)\u001b[0m\u001b[0;34m\u001b[0m\u001b[0;34m\u001b[0m\u001b[0m\n\u001b[0m\u001b[1;32m      3\u001b[0m \u001b[0mplot_topodb_comparison\u001b[0m\u001b[0;34m(\u001b[0m\u001b[0mtopocomp_db_dict\u001b[0m\u001b[0;34m,\u001b[0m \u001b[0mtopocomp_param_dict\u001b[0m\u001b[0;34m,\u001b[0m \u001b[0;34m''\u001b[0m\u001b[0;34m,\u001b[0m \u001b[0mtopocomp_config\u001b[0m\u001b[0;34m[\u001b[0m\u001b[0;34m'out_dir'\u001b[0m\u001b[0;34m]\u001b[0m\u001b[0;34m,\u001b[0m \u001b[0mnum_rows\u001b[0m\u001b[0;34m=\u001b[0m\u001b[0;36m3\u001b[0m\u001b[0;34m,\u001b[0m \u001b[0mshow_fig\u001b[0m\u001b[0;34m=\u001b[0m\u001b[0;32mTrue\u001b[0m\u001b[0;34m)\u001b[0m\u001b[0;34m\u001b[0m\u001b[0;34m\u001b[0m\u001b[0m\n\u001b[1;32m      4\u001b[0m \u001b[0mplot_topodb_comparison\u001b[0m\u001b[0;34m(\u001b[0m\u001b[0mtopocomp_db_dict\u001b[0m\u001b[0;34m,\u001b[0m \u001b[0mtopocomp_param_dict\u001b[0m\u001b[0;34m,\u001b[0m \u001b[0;34m'mtype'\u001b[0m\u001b[0;34m,\u001b[0m \u001b[0mtopocomp_config\u001b[0m\u001b[0;34m[\u001b[0m\u001b[0;34m'out_dir'\u001b[0m\u001b[0;34m]\u001b[0m\u001b[0;34m,\u001b[0m \u001b[0mnum_rows\u001b[0m\u001b[0;34m=\u001b[0m\u001b[0;36m1\u001b[0m\u001b[0;34m,\u001b[0m \u001b[0mshow_fig\u001b[0m\u001b[0;34m=\u001b[0m\u001b[0;32mTrue\u001b[0m\u001b[0;34m)\u001b[0m\u001b[0;34m\u001b[0m\u001b[0;34m\u001b[0m\u001b[0m\n\u001b[1;32m      5\u001b[0m \u001b[0mplot_topodb_comparison\u001b[0m\u001b[0;34m(\u001b[0m\u001b[0mtopocomp_db_dict\u001b[0m\u001b[0;34m,\u001b[0m \u001b[0mtopocomp_param_dict\u001b[0m\u001b[0;34m,\u001b[0m \u001b[0;34m'layer'\u001b[0m\u001b[0;34m,\u001b[0m \u001b[0mtopocomp_config\u001b[0m\u001b[0;34m[\u001b[0m\u001b[0;34m'out_dir'\u001b[0m\u001b[0;34m]\u001b[0m\u001b[0;34m,\u001b[0m \u001b[0mnum_rows\u001b[0m\u001b[0;34m=\u001b[0m\u001b[0;36m2\u001b[0m\u001b[0;34m,\u001b[0m \u001b[0mshow_fig\u001b[0m\u001b[0;34m=\u001b[0m\u001b[0;32mTrue\u001b[0m\u001b[0;34m)\u001b[0m\u001b[0;34m\u001b[0m\u001b[0;34m\u001b[0m\u001b[0m\n",
      "\u001b[0;32m~/JupyterLab/git/topological_comparator/bin/compare_topo_db.py\u001b[0m in \u001b[0;36mread_topo_dbs_and_parameter_specs\u001b[0;34m(cfg_fn_dict)\u001b[0m\n\u001b[1;32m     39\u001b[0m                     for k, cfg in cfg_dict.items()])\n\u001b[1;32m     40\u001b[0m     param_lists = [cfg.stage(\"sample_tribes\")[\"config\"][\"Champions\"][\"Specifiers\"]\n\u001b[0;32m---> 41\u001b[0;31m                    for cfg in cfg_dict.values()]\n\u001b[0m\u001b[1;32m     42\u001b[0m     \u001b[0mparam_dict\u001b[0m \u001b[0;34m=\u001b[0m \u001b[0;34m{\u001b[0m\u001b[0;34m}\u001b[0m\u001b[0;34m\u001b[0m\u001b[0;34m\u001b[0m\u001b[0m\n\u001b[1;32m     43\u001b[0m     \u001b[0;32mfor\u001b[0m \u001b[0mentry\u001b[0m \u001b[0;32min\u001b[0m \u001b[0mparam_lists\u001b[0m\u001b[0;34m[\u001b[0m\u001b[0;36m0\u001b[0m\u001b[0;34m]\u001b[0m \u001b[0;34m+\u001b[0m \u001b[0mparam_lists\u001b[0m\u001b[0;34m[\u001b[0m\u001b[0;36m1\u001b[0m\u001b[0;34m]\u001b[0m\u001b[0;34m:\u001b[0m\u001b[0;34m\u001b[0m\u001b[0;34m\u001b[0m\u001b[0m\n",
      "\u001b[0;32m~/JupyterLab/git/topological_comparator/bin/compare_topo_db.py\u001b[0m in \u001b[0;36m<listcomp>\u001b[0;34m(.0)\u001b[0m\n\u001b[1;32m     39\u001b[0m                     for k, cfg in cfg_dict.items()])\n\u001b[1;32m     40\u001b[0m     param_lists = [cfg.stage(\"sample_tribes\")[\"config\"][\"Champions\"][\"Specifiers\"]\n\u001b[0;32m---> 41\u001b[0;31m                    for cfg in cfg_dict.values()]\n\u001b[0m\u001b[1;32m     42\u001b[0m     \u001b[0mparam_dict\u001b[0m \u001b[0;34m=\u001b[0m \u001b[0;34m{\u001b[0m\u001b[0;34m}\u001b[0m\u001b[0;34m\u001b[0m\u001b[0;34m\u001b[0m\u001b[0m\n\u001b[1;32m     43\u001b[0m     \u001b[0;32mfor\u001b[0m \u001b[0mentry\u001b[0m \u001b[0;32min\u001b[0m \u001b[0mparam_lists\u001b[0m\u001b[0;34m[\u001b[0m\u001b[0;36m0\u001b[0m\u001b[0;34m]\u001b[0m \u001b[0;34m+\u001b[0m \u001b[0mparam_lists\u001b[0m\u001b[0;34m[\u001b[0m\u001b[0;36m1\u001b[0m\u001b[0;34m]\u001b[0m\u001b[0;34m:\u001b[0m\u001b[0;34m\u001b[0m\u001b[0;34m\u001b[0m\u001b[0m\n",
      "\u001b[0;31mKeyError\u001b[0m: 'Champions'"
     ]
    }
   ],
   "source": [
    "# Topological comparison of connectomes - Plot topological paramter overviews\n",
    "topocomp_db_dict, topocomp_param_dict = compare_topo_db.read_topo_dbs_and_parameter_specs({topocomp_config['circuits'][cidx]['circuit_name']: topocomp_config_files[cidx] for cidx in sorted(topocomp_config_files.keys())})\n",
    "# TODO: Fix hard-coded \"Champions\" in read_topo_dbs_and_parameter_specs\n",
    "plot_topodb_comparison(topocomp_db_dict, topocomp_param_dict, '', topocomp_config['out_dir'], num_rows=3, show_fig=True)\n",
    "plot_topodb_comparison(topocomp_db_dict, topocomp_param_dict, 'mtype', topocomp_config['out_dir'], num_rows=1, show_fig=True)\n",
    "plot_topodb_comparison(topocomp_db_dict, topocomp_param_dict, 'layer', topocomp_config['out_dir'], num_rows=2, show_fig=True)\n"
   ]
  },
  {
   "cell_type": "code",
   "execution_count": 6,
   "metadata": {},
   "outputs": [
    {
     "name": "stdout",
     "output_type": "stream",
     "text": [
      "Saving /gpfs/bbp.cscs.ch/home/pokorny/JupyterLab/git/connectome_manipulator/notebooks/figures/circuit-build-S1_v1/Raw_vs_NoManipV2/triad_comp-Radius_All_0.pdf...\n"
     ]
    },
    {
     "data": {
      "image/png": "[encoded data removed]",
      "text/plain": [
       "<Figure size 432x288 with 1 Axes>"
      ]
     },
     "metadata": {
      "needs_background": "light"
     },
     "output_type": "display_data"
    }
   ],
   "source": [
    "# Topological comparison of connectomes - Plot over-/underexpression of triad motifs\n",
    "plot_triads_comparison(topocomp_config, topocomp_config_files, 'Radius/All/0', topocomp_config['out_dir'], show_fig=True)"
   ]
  },
  {
   "cell_type": "code",
   "execution_count": null,
   "metadata": {},
   "outputs": [],
   "source": []
  }
 ],
 "metadata": {
  "kernelspec": {
   "display_name": "BluePy2Kernel",
   "language": "python",
   "name": "bluepy2kernel"
  },
  "language_info": {
   "codemirror_mode": {
    "name": "ipython",
    "version": 3
   },
   "file_extension": ".py",
   "mimetype": "text/x-python",
   "name": "python",
   "nbconvert_exporter": "python",
   "pygments_lexer": "ipython3",
   "version": "3.7.4"
  }
 },
 "nbformat": 4,
 "nbformat_minor": 4
}
