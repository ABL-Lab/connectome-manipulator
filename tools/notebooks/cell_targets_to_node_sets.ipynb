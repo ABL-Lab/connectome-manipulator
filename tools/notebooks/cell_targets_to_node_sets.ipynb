{
 "cells": [
  {
   "cell_type": "markdown",
   "metadata": {},
   "source": [
    "### __Conversion of BluePy's cell targets (.target file) to .sonata node sets (.json file)__\n",
    "__Requirements:__ bluepy"
   ]
  },
  {
   "cell_type": "code",
   "execution_count": 1,
   "metadata": {},
   "outputs": [],
   "source": [
    "import json\n",
    "import numpy as np\n",
    "import os\n",
    "from bluepy.impl.target import TargetContext"
   ]
  },
  {
   "cell_type": "code",
   "execution_count": 2,
   "metadata": {},
   "outputs": [],
   "source": [
    "target_file = '/gpfs/bbp.cscs.ch/data/scratch/proj83/home/bolanos/circuits/Bio_M/20200805/hexgrid/hexes.target'\n",
    "output_dir = '/gpfs/bbp.cscs.ch/data/scratch/proj83/home/pokorny/SSCx-Bio_M-20200805/sonata'"
   ]
  },
  {
   "cell_type": "code",
   "execution_count": 4,
   "metadata": {},
   "outputs": [],
   "source": [
    "# Convert to node sets and write to .json file\n",
    "cell_targets = TargetContext.load([target_file])\n",
    "\n",
    "def np_conv(data):\n",
    "    \"\"\" Convert numpy.ndarray to list recursively, so that JSON serializable \"\"\"\n",
    "    if isinstance(data, dict):\n",
    "        return {k: np_conv(v) for k, v in data.items()}\n",
    "    elif isinstance(data, list):\n",
    "        return [np_conv(d) for d in data]\n",
    "    elif isinstance(data, np.ndarray):\n",
    "        return data.tolist()\n",
    "    else:\n",
    "        return data\n",
    "\n",
    "out_file = os.path.join(output_dir, os.path.splitext(os.path.split(target_file)[-1])[0] + '.json')\n",
    "assert not os.path.exists(out_file), 'ERROR: Output file already exists!'\n",
    "with open(out_file, 'w') as f: \n",
    "    json.dump(np_conv(cell_targets.to_node_sets()), f, indent=2)"
   ]
  },
  {
   "cell_type": "code",
   "execution_count": 5,
   "metadata": {},
   "outputs": [
    {
     "name": "stdout",
     "output_type": "stream",
     "text": [
      "81 node sets written to file:\n",
      "['hex0', 'hex1', 'hex2', 'hex3', 'hex4', 'hex5', 'hex6', 'hex7', 'hex8', 'hex9', 'hex10', 'hex11', 'hex12', 'hex13', 'hex14', 'hex15', 'hex16', 'hex17', 'hex18', 'hex19', 'hex20', 'hex21', 'hex22', 'hex23', 'hex24', 'hex25', 'hex26', 'hex27', 'hex28', 'hex29', 'hex30', 'hex31', 'hex32', 'hex33', 'hex34', 'hex35', 'hex36', 'hex37', 'hex38', 'hex39', 'hex40', 'hex41', 'hex42', 'hex43', 'hex44', 'hex45', 'hex46', 'hex47', 'hex48', 'hex49', 'hex50', 'hex51', 'hex52', 'hex53', 'hex54', 'hex55', 'hex56', 'hex57', 'hex58', 'hex59', 'hex60', 'hex61', 'hex62', 'hex63', 'hex64', 'hex65', 'hex66', 'hex67', 'hex68', 'hex69', 'hex70', 'hex71', 'hex72', 'hex73', 'hex74', 'hex75', 'hex76', 'hex77', 'hex_O1', 'hex_O2', 'hex_all']\n"
     ]
    }
   ],
   "source": [
    "# Check output file\n",
    "with open(out_file, 'r') as f:\n",
    "    node_sets = json.load(f)\n",
    "print(f'{len(node_sets)} node sets written to file:')\n",
    "print(list(node_sets.keys()))"
   ]
  },
  {
   "cell_type": "code",
   "execution_count": null,
   "metadata": {},
   "outputs": [],
   "source": []
  }
 ],
 "metadata": {
  "kernelspec": {
   "display_name": "BbpWorkflowKernel",
   "language": "python",
   "name": "bbpworkflowkernel"
  },
  "language_info": {
   "codemirror_mode": {
    "name": "ipython",
    "version": 3
   },
   "file_extension": ".py",
   "mimetype": "text/x-python",
   "name": "python",
   "nbconvert_exporter": "python",
   "pygments_lexer": "ipython3",
   "version": "3.8.3"
  }
 },
 "nbformat": 4,
 "nbformat_minor": 4
}
