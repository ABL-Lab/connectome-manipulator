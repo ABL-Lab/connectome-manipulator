{
 "cells": [
  {
   "cell_type": "markdown",
   "metadata": {},
   "source": [
    "### __Conversion of BluePy's cell targets (.target file) to .sonata node sets (.json file)__\n",
    "__Requirements:__ bluepy"
   ]
  },
  {
   "cell_type": "code",
   "execution_count": 1,
   "metadata": {},
   "outputs": [],
   "source": [
    "import json\n",
    "import numpy as np\n",
    "import os\n",
    "from bluepy.impl.target import TargetContext"
   ]
  },
  {
   "cell_type": "code",
   "execution_count": 59,
   "metadata": {},
   "outputs": [],
   "source": [
    "# target_file = '/gpfs/bbp.cscs.ch/data/scratch/proj83/home/bolanos/circuits/Bio_M/20200805/hexgrid/hexes.target'\n",
    "# output_dir = '/gpfs/bbp.cscs.ch/data/scratch/proj83/home/pokorny/SSCx-Bio_M-20200805/sonata'\n",
    "\n",
    "target_file = '/gpfs/bbp.cscs.ch/data/scratch/proj83/home/bolanos/circuits/Bio_M/20200805/concentric_targets/cyl_hex0_0.100.target'\n",
    "output_dir = '/gpfs/bbp.cscs.ch/data/scratch/proj83/home/bolanos/circuits/Bio_M/20200805/concentric_targets'"
   ]
  },
  {
   "cell_type": "code",
   "execution_count": 60,
   "metadata": {},
   "outputs": [],
   "source": [
    "# Convert to node sets and write to .json file\n",
    "cell_targets = TargetContext.load([target_file])\n",
    "\n",
    "def np_conv(data):\n",
    "    \"\"\" Convert numpy.ndarray to list recursively, so that JSON serializable \"\"\"\n",
    "    if isinstance(data, dict):\n",
    "        return {k: np_conv(v) for k, v in data.items()}\n",
    "    elif isinstance(data, list):\n",
    "        return [np_conv(d) for d in data]\n",
    "    elif isinstance(data, np.ndarray):\n",
    "        return data.tolist()\n",
    "    else:\n",
    "        return data\n",
    "\n",
    "out_file = os.path.join(output_dir, os.path.splitext(os.path.split(target_file)[-1])[0] + '.json')\n",
    "assert not os.path.exists(out_file), 'ERROR: Output file already exists!'\n",
    "with open(out_file, 'w') as f: \n",
    "    json.dump(np_conv(cell_targets.to_node_sets()), f, indent=2)"
   ]
  },
  {
   "cell_type": "code",
   "execution_count": 61,
   "metadata": {},
   "outputs": [
    {
     "name": "stdout",
     "output_type": "stream",
     "text": [
      "1 node sets written to file:\n",
      "['cyl_hex0_0.100']\n"
     ]
    }
   ],
   "source": [
    "# Check output file\n",
    "with open(out_file, 'r') as f:\n",
    "    node_sets = json.load(f)\n",
    "print(f'{len(node_sets)} node sets written to file:')\n",
    "print(list(node_sets.keys()))"
   ]
  },
  {
   "cell_type": "code",
   "execution_count": null,
   "metadata": {},
   "outputs": [],
   "source": []
  }
 ],
 "metadata": {
  "kernelspec": {
   "display_name": "BbpWorkflowKernel",
   "language": "python",
   "name": "bbpworkflowkernel"
  },
  "language_info": {
   "codemirror_mode": {
    "name": "ipython",
    "version": 3
   },
   "file_extension": ".py",
   "mimetype": "text/x-python",
   "name": "python",
   "nbconvert_exporter": "python",
   "pygments_lexer": "ipython3",
   "version": "3.9.7"
  }
 },
 "nbformat": 4,
 "nbformat_minor": 4
}
